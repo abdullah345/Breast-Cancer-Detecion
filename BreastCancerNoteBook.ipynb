{
  "nbformat": 4,
  "nbformat_minor": 0,
  "metadata": {
    "colab": {
      "name": "BreastCancerNoteBook.ipynb",
      "version": "0.3.2",
      "provenance": [],
      "include_colab_link": true
    },
    "kernelspec": {
      "name": "python3",
      "display_name": "Python 3"
    }
  },
  "cells": [
    {
      "cell_type": "markdown",
      "metadata": {
        "id": "view-in-github",
        "colab_type": "text"
      },
      "source": [
        "<a href=\"https://colab.research.google.com/github/abdullah345/Breast-Cancer-Detecion/blob/master/BreastCancerNoteBook.ipynb\" target=\"_parent\"><img src=\"https://colab.research.google.com/assets/colab-badge.svg\" alt=\"Open In Colab\"/></a>"
      ]
    },
    {
      "cell_type": "markdown",
      "metadata": {
        "id": "kzeTccv9BXDH",
        "colab_type": "text"
      },
      "source": [
        "#Breast Cancer Detection\n",
        "\n",
        "Breast cancer is cancer that forms in the cells of the breasts. After skin cancer, breast cancer is the most common cancer diagnosed in women in the United States. Breast cancer can occur in both men and women, but it's far more common in women.\n",
        "\n",
        "##About NoteBook\n",
        "\n",
        "This work has been done upon a dataset provided by BIO GPS. This data set contains information of 800+ paitients. I have tried to predict Breast cancer by using machine learning framework. Results have been attached within the notebook. \n",
        "\n",
        "If you find anything which i have done wrong or you think it should be done in  different way, i will be very happy if you could mention in issues or you can simply email me at [abdullahamir9@gmail.com](https://)\n",
        "\n",
        "\n",
        "\n"
      ]
    },
    {
      "cell_type": "code",
      "metadata": {
        "id": "RCXFChzp0TVg",
        "colab_type": "code",
        "colab": {}
      },
      "source": [
        "import pandas as pd\n",
        "import numpy as np\n"
      ],
      "execution_count": 0,
      "outputs": []
    },
    {
      "cell_type": "code",
      "metadata": {
        "id": "9CQj20B2vZOT",
        "colab_type": "code",
        "colab": {}
      },
      "source": [
        "data = pd.read_excel('ER-PR-HR.xlsx')"
      ],
      "execution_count": 0,
      "outputs": []
    },
    {
      "cell_type": "code",
      "metadata": {
        "id": "lXE72S-WvqSf",
        "colab_type": "code",
        "colab": {}
      },
      "source": [
        "df = data.copy()"
      ],
      "execution_count": 0,
      "outputs": []
    },
    {
      "cell_type": "code",
      "metadata": {
        "id": "Picb3A0BvyHN",
        "colab_type": "code",
        "outputId": "9a04b82d-9705-40a4-ddca-adcf24c48490",
        "colab": {
          "base_uri": "https://localhost:8080/",
          "height": 668
        }
      },
      "source": [
        "df.head()"
      ],
      "execution_count": 0,
      "outputs": [
        {
          "output_type": "execute_result",
          "data": {
            "text/html": [
              "<div>\n",
              "<style scoped>\n",
              "    .dataframe tbody tr th:only-of-type {\n",
              "        vertical-align: middle;\n",
              "    }\n",
              "\n",
              "    .dataframe tbody tr th {\n",
              "        vertical-align: top;\n",
              "    }\n",
              "\n",
              "    .dataframe thead th {\n",
              "        text-align: right;\n",
              "    }\n",
              "</style>\n",
              "<table border=\"1\" class=\"dataframe\">\n",
              "  <thead>\n",
              "    <tr style=\"text-align: right;\">\n",
              "      <th></th>\n",
              "      <th>Study ID</th>\n",
              "      <th>Diagnosis Age</th>\n",
              "      <th>Cancer Type</th>\n",
              "      <th>Cancer Type Detailed</th>\n",
              "      <th>ER Status By IHC</th>\n",
              "      <th>Fraction Genome Altered</th>\n",
              "      <th>Person Gender</th>\n",
              "      <th>Neoplasm Histologic Type Name</th>\n",
              "      <th>IHC-HER2</th>\n",
              "      <th>Primary Lymph Node Presentation Assessment Ind-3</th>\n",
              "      <th>Lymph Node(s) Examined Number</th>\n",
              "      <th>Menopause Status</th>\n",
              "      <th>First Pathologic Diagnosis Biospecimen Acquisition Method Type</th>\n",
              "      <th>Mutation Count</th>\n",
              "      <th>Oncotree Code</th>\n",
              "      <th>Primary Tumor Site</th>\n",
              "      <th>PR status by ihc</th>\n",
              "    </tr>\n",
              "  </thead>\n",
              "  <tbody>\n",
              "    <tr>\n",
              "      <th>0</th>\n",
              "      <td>brca_tcga_pub2015</td>\n",
              "      <td>70.0</td>\n",
              "      <td>Breast Cancer</td>\n",
              "      <td>Invasive Breast Carcinoma</td>\n",
              "      <td>Positive</td>\n",
              "      <td>0.000802</td>\n",
              "      <td>FEMALE</td>\n",
              "      <td>Other, specify</td>\n",
              "      <td>Negative</td>\n",
              "      <td>YES</td>\n",
              "      <td>2.0</td>\n",
              "      <td>Post (prior bilateral ovariectomy OR &gt;12 mo si...</td>\n",
              "      <td>Fine needle aspiration biopsy</td>\n",
              "      <td>18.0</td>\n",
              "      <td>BRCA</td>\n",
              "      <td>Left</td>\n",
              "      <td>Negative</td>\n",
              "    </tr>\n",
              "    <tr>\n",
              "      <th>1</th>\n",
              "      <td>brca_tcga_pub2015</td>\n",
              "      <td>59.0</td>\n",
              "      <td>Breast Cancer</td>\n",
              "      <td>Breast Invasive Ductal Carcinoma</td>\n",
              "      <td>Positive</td>\n",
              "      <td>0.247381</td>\n",
              "      <td>FEMALE</td>\n",
              "      <td>Infiltrating Ductal Carcinoma</td>\n",
              "      <td>Negative</td>\n",
              "      <td>YES</td>\n",
              "      <td>3.0</td>\n",
              "      <td>NaN</td>\n",
              "      <td>Core needle biopsy</td>\n",
              "      <td>30.0</td>\n",
              "      <td>IDC</td>\n",
              "      <td>Left</td>\n",
              "      <td>Positive</td>\n",
              "    </tr>\n",
              "    <tr>\n",
              "      <th>2</th>\n",
              "      <td>brca_tcga_pub2015</td>\n",
              "      <td>56.0</td>\n",
              "      <td>Breast Cancer</td>\n",
              "      <td>Breast Invasive Lobular Carcinoma</td>\n",
              "      <td>Positive</td>\n",
              "      <td>0.213374</td>\n",
              "      <td>FEMALE</td>\n",
              "      <td>Mixed Histology (please specify)</td>\n",
              "      <td>Negative</td>\n",
              "      <td>NaN</td>\n",
              "      <td>8.0</td>\n",
              "      <td>Pre (&lt;6 months since LMP AND no prior bilatera...</td>\n",
              "      <td>Core needle biopsy</td>\n",
              "      <td>20.0</td>\n",
              "      <td>ILC</td>\n",
              "      <td>Left Upper Outer Quadrant</td>\n",
              "      <td>Positive</td>\n",
              "    </tr>\n",
              "    <tr>\n",
              "      <th>3</th>\n",
              "      <td>brca_tcga_pub2015</td>\n",
              "      <td>54.0</td>\n",
              "      <td>Breast Cancer</td>\n",
              "      <td>Breast Invasive Ductal Carcinoma</td>\n",
              "      <td>Positive</td>\n",
              "      <td>0.201518</td>\n",
              "      <td>FEMALE</td>\n",
              "      <td>Infiltrating Ductal Carcinoma</td>\n",
              "      <td>Negative</td>\n",
              "      <td>YES</td>\n",
              "      <td>2.0</td>\n",
              "      <td>Pre (&lt;6 months since LMP AND no prior bilatera...</td>\n",
              "      <td>Fine needle aspiration biopsy</td>\n",
              "      <td>38.0</td>\n",
              "      <td>IDC</td>\n",
              "      <td>Left</td>\n",
              "      <td>Positive</td>\n",
              "    </tr>\n",
              "    <tr>\n",
              "      <th>4</th>\n",
              "      <td>brca_tcga_pub2015</td>\n",
              "      <td>39.0</td>\n",
              "      <td>Breast Cancer</td>\n",
              "      <td>Breast Mixed Ductal and Lobular Carcinoma</td>\n",
              "      <td>Negative</td>\n",
              "      <td>0.178887</td>\n",
              "      <td>FEMALE</td>\n",
              "      <td>Infiltrating Ductal Carcinoma</td>\n",
              "      <td>Equivocal</td>\n",
              "      <td>NaN</td>\n",
              "      <td>2.0</td>\n",
              "      <td>Pre (&lt;6 months since LMP AND no prior bilatera...</td>\n",
              "      <td>Fine needle aspiration biopsy</td>\n",
              "      <td>78.0</td>\n",
              "      <td>MDLC</td>\n",
              "      <td>Left Upper Inner Quadrant</td>\n",
              "      <td>Positive</td>\n",
              "    </tr>\n",
              "  </tbody>\n",
              "</table>\n",
              "</div>"
            ],
            "text/plain": [
              "            Study ID  Diagnosis Age  ...         Primary Tumor Site PR status by ihc\n",
              "0  brca_tcga_pub2015           70.0  ...                       Left         Negative\n",
              "1  brca_tcga_pub2015           59.0  ...                       Left         Positive\n",
              "2  brca_tcga_pub2015           56.0  ...  Left Upper Outer Quadrant         Positive\n",
              "3  brca_tcga_pub2015           54.0  ...                       Left         Positive\n",
              "4  brca_tcga_pub2015           39.0  ...  Left Upper Inner Quadrant         Positive\n",
              "\n",
              "[5 rows x 17 columns]"
            ]
          },
          "metadata": {
            "tags": []
          },
          "execution_count": 6
        }
      ]
    },
    {
      "cell_type": "code",
      "metadata": {
        "id": "pRTmeBUQv01T",
        "colab_type": "code",
        "colab": {}
      },
      "source": [
        "df.drop('Study ID', axis=1,inplace=True)"
      ],
      "execution_count": 0,
      "outputs": []
    },
    {
      "cell_type": "code",
      "metadata": {
        "id": "q-GMVn36drrp",
        "colab_type": "code",
        "colab": {}
      },
      "source": [
        "df=df[df['Cancer Type Detailed']!='NaN']"
      ],
      "execution_count": 0,
      "outputs": []
    },
    {
      "cell_type": "code",
      "metadata": {
        "id": "op4havkXeGqb",
        "colab_type": "code",
        "outputId": "d88b1826-4fcc-4ca0-e07a-7f983bb6433c",
        "colab": {
          "base_uri": "https://localhost:8080/",
          "height": 33
        }
      },
      "source": [
        "df['Primary Lymph Node Presentation Assessment Ind-3'].dtype== ('O')"
      ],
      "execution_count": 0,
      "outputs": [
        {
          "output_type": "execute_result",
          "data": {
            "text/plain": [
              "True"
            ]
          },
          "metadata": {
            "tags": []
          },
          "execution_count": 9
        }
      ]
    },
    {
      "cell_type": "code",
      "metadata": {
        "id": "aklOWm24wcbq",
        "colab_type": "code",
        "outputId": "4d162bc6-fcaf-417f-8089-af887a32ae17",
        "colab": {
          "base_uri": "https://localhost:8080/",
          "height": 33
        }
      },
      "source": [
        "data.shape,df.shape"
      ],
      "execution_count": 0,
      "outputs": [
        {
          "output_type": "execute_result",
          "data": {
            "text/plain": [
              "((818, 17), (818, 16))"
            ]
          },
          "metadata": {
            "tags": []
          },
          "execution_count": 10
        }
      ]
    },
    {
      "cell_type": "code",
      "metadata": {
        "id": "q-6UP8dZd4-9",
        "colab_type": "code",
        "colab": {}
      },
      "source": [
        "df.drop('Cancer Type', axis=1,inplace=True)"
      ],
      "execution_count": 0,
      "outputs": []
    },
    {
      "cell_type": "code",
      "metadata": {
        "id": "ODxMJ2xywuCN",
        "colab_type": "code",
        "outputId": "2bc45930-822d-4c34-9cdc-c8186575254c",
        "colab": {
          "base_uri": "https://localhost:8080/",
          "height": 668
        }
      },
      "source": [
        "df.head()"
      ],
      "execution_count": 0,
      "outputs": [
        {
          "output_type": "execute_result",
          "data": {
            "text/html": [
              "<div>\n",
              "<style scoped>\n",
              "    .dataframe tbody tr th:only-of-type {\n",
              "        vertical-align: middle;\n",
              "    }\n",
              "\n",
              "    .dataframe tbody tr th {\n",
              "        vertical-align: top;\n",
              "    }\n",
              "\n",
              "    .dataframe thead th {\n",
              "        text-align: right;\n",
              "    }\n",
              "</style>\n",
              "<table border=\"1\" class=\"dataframe\">\n",
              "  <thead>\n",
              "    <tr style=\"text-align: right;\">\n",
              "      <th></th>\n",
              "      <th>Diagnosis Age</th>\n",
              "      <th>Cancer Type Detailed</th>\n",
              "      <th>ER Status By IHC</th>\n",
              "      <th>Fraction Genome Altered</th>\n",
              "      <th>Person Gender</th>\n",
              "      <th>Neoplasm Histologic Type Name</th>\n",
              "      <th>IHC-HER2</th>\n",
              "      <th>Primary Lymph Node Presentation Assessment Ind-3</th>\n",
              "      <th>Lymph Node(s) Examined Number</th>\n",
              "      <th>Menopause Status</th>\n",
              "      <th>First Pathologic Diagnosis Biospecimen Acquisition Method Type</th>\n",
              "      <th>Mutation Count</th>\n",
              "      <th>Oncotree Code</th>\n",
              "      <th>Primary Tumor Site</th>\n",
              "      <th>PR status by ihc</th>\n",
              "    </tr>\n",
              "  </thead>\n",
              "  <tbody>\n",
              "    <tr>\n",
              "      <th>0</th>\n",
              "      <td>70.0</td>\n",
              "      <td>Invasive Breast Carcinoma</td>\n",
              "      <td>Positive</td>\n",
              "      <td>0.000802</td>\n",
              "      <td>FEMALE</td>\n",
              "      <td>Other, specify</td>\n",
              "      <td>Negative</td>\n",
              "      <td>YES</td>\n",
              "      <td>2.0</td>\n",
              "      <td>Post (prior bilateral ovariectomy OR &gt;12 mo si...</td>\n",
              "      <td>Fine needle aspiration biopsy</td>\n",
              "      <td>18.0</td>\n",
              "      <td>BRCA</td>\n",
              "      <td>Left</td>\n",
              "      <td>Negative</td>\n",
              "    </tr>\n",
              "    <tr>\n",
              "      <th>1</th>\n",
              "      <td>59.0</td>\n",
              "      <td>Breast Invasive Ductal Carcinoma</td>\n",
              "      <td>Positive</td>\n",
              "      <td>0.247381</td>\n",
              "      <td>FEMALE</td>\n",
              "      <td>Infiltrating Ductal Carcinoma</td>\n",
              "      <td>Negative</td>\n",
              "      <td>YES</td>\n",
              "      <td>3.0</td>\n",
              "      <td>NaN</td>\n",
              "      <td>Core needle biopsy</td>\n",
              "      <td>30.0</td>\n",
              "      <td>IDC</td>\n",
              "      <td>Left</td>\n",
              "      <td>Positive</td>\n",
              "    </tr>\n",
              "    <tr>\n",
              "      <th>2</th>\n",
              "      <td>56.0</td>\n",
              "      <td>Breast Invasive Lobular Carcinoma</td>\n",
              "      <td>Positive</td>\n",
              "      <td>0.213374</td>\n",
              "      <td>FEMALE</td>\n",
              "      <td>Mixed Histology (please specify)</td>\n",
              "      <td>Negative</td>\n",
              "      <td>NaN</td>\n",
              "      <td>8.0</td>\n",
              "      <td>Pre (&lt;6 months since LMP AND no prior bilatera...</td>\n",
              "      <td>Core needle biopsy</td>\n",
              "      <td>20.0</td>\n",
              "      <td>ILC</td>\n",
              "      <td>Left Upper Outer Quadrant</td>\n",
              "      <td>Positive</td>\n",
              "    </tr>\n",
              "    <tr>\n",
              "      <th>3</th>\n",
              "      <td>54.0</td>\n",
              "      <td>Breast Invasive Ductal Carcinoma</td>\n",
              "      <td>Positive</td>\n",
              "      <td>0.201518</td>\n",
              "      <td>FEMALE</td>\n",
              "      <td>Infiltrating Ductal Carcinoma</td>\n",
              "      <td>Negative</td>\n",
              "      <td>YES</td>\n",
              "      <td>2.0</td>\n",
              "      <td>Pre (&lt;6 months since LMP AND no prior bilatera...</td>\n",
              "      <td>Fine needle aspiration biopsy</td>\n",
              "      <td>38.0</td>\n",
              "      <td>IDC</td>\n",
              "      <td>Left</td>\n",
              "      <td>Positive</td>\n",
              "    </tr>\n",
              "    <tr>\n",
              "      <th>4</th>\n",
              "      <td>39.0</td>\n",
              "      <td>Breast Mixed Ductal and Lobular Carcinoma</td>\n",
              "      <td>Negative</td>\n",
              "      <td>0.178887</td>\n",
              "      <td>FEMALE</td>\n",
              "      <td>Infiltrating Ductal Carcinoma</td>\n",
              "      <td>Equivocal</td>\n",
              "      <td>NaN</td>\n",
              "      <td>2.0</td>\n",
              "      <td>Pre (&lt;6 months since LMP AND no prior bilatera...</td>\n",
              "      <td>Fine needle aspiration biopsy</td>\n",
              "      <td>78.0</td>\n",
              "      <td>MDLC</td>\n",
              "      <td>Left Upper Inner Quadrant</td>\n",
              "      <td>Positive</td>\n",
              "    </tr>\n",
              "  </tbody>\n",
              "</table>\n",
              "</div>"
            ],
            "text/plain": [
              "   Diagnosis Age  ... PR status by ihc\n",
              "0           70.0  ...         Negative\n",
              "1           59.0  ...         Positive\n",
              "2           56.0  ...         Positive\n",
              "3           54.0  ...         Positive\n",
              "4           39.0  ...         Positive\n",
              "\n",
              "[5 rows x 15 columns]"
            ]
          },
          "metadata": {
            "tags": []
          },
          "execution_count": 12
        }
      ]
    },
    {
      "cell_type": "code",
      "metadata": {
        "id": "2opnsDmxxy9B",
        "colab_type": "code",
        "colab": {}
      },
      "source": [
        "import matplotlib.pyplot as plt\n"
      ],
      "execution_count": 0,
      "outputs": []
    },
    {
      "cell_type": "code",
      "metadata": {
        "id": "Zi-GaTdCPqA7",
        "colab_type": "code",
        "outputId": "7288775e-66c7-4b58-d0a8-392f925b32c0",
        "colab": {
          "base_uri": "https://localhost:8080/",
          "height": 167
        }
      },
      "source": [
        "df.columns"
      ],
      "execution_count": 0,
      "outputs": [
        {
          "output_type": "execute_result",
          "data": {
            "text/plain": [
              "Index(['Diagnosis Age', 'Cancer Type Detailed', 'ER Status By IHC',\n",
              "       'Fraction Genome Altered', 'Person Gender',\n",
              "       'Neoplasm Histologic Type Name', 'IHC-HER2',\n",
              "       'Primary Lymph Node Presentation Assessment Ind-3',\n",
              "       'Lymph Node(s) Examined Number', 'Menopause Status',\n",
              "       'First Pathologic Diagnosis Biospecimen Acquisition Method Type',\n",
              "       'Mutation Count', 'Oncotree Code', 'Primary Tumor Site',\n",
              "       'PR status by ihc'],\n",
              "      dtype='object')"
            ]
          },
          "metadata": {
            "tags": []
          },
          "execution_count": 15
        }
      ]
    },
    {
      "cell_type": "code",
      "metadata": {
        "id": "HVy2o5Dvx3p1",
        "colab_type": "code",
        "colab": {}
      },
      "source": [
        "df['AgeCat'] = ''\n",
        "\n",
        "df.loc[(df['Diagnosis Age']>10) & (df['Diagnosis Age']<=35), 'AgeCat'] = '10-35'\n",
        "df.loc[(df['Diagnosis Age']>35) & (df['Diagnosis Age']<=45), 'AgeCat'] = '35-45'\n",
        "df.loc[(df['Diagnosis Age']>45) & (df['Diagnosis Age']<=60), 'AgeCat'] = '45-60'\n",
        "df.loc[(df['Diagnosis Age']>60) , 'AgeCat'] = '60+'\n",
        "\n",
        "\n"
      ],
      "execution_count": 0,
      "outputs": []
    },
    {
      "cell_type": "code",
      "metadata": {
        "id": "OywULcQydcOg",
        "colab_type": "code",
        "outputId": "1a8aa5aa-cf23-426d-da1d-a3bd1c197a0c",
        "colab": {
          "base_uri": "https://localhost:8080/",
          "height": 668
        }
      },
      "source": [
        "df.head()"
      ],
      "execution_count": 0,
      "outputs": [
        {
          "output_type": "execute_result",
          "data": {
            "text/html": [
              "<div>\n",
              "<style scoped>\n",
              "    .dataframe tbody tr th:only-of-type {\n",
              "        vertical-align: middle;\n",
              "    }\n",
              "\n",
              "    .dataframe tbody tr th {\n",
              "        vertical-align: top;\n",
              "    }\n",
              "\n",
              "    .dataframe thead th {\n",
              "        text-align: right;\n",
              "    }\n",
              "</style>\n",
              "<table border=\"1\" class=\"dataframe\">\n",
              "  <thead>\n",
              "    <tr style=\"text-align: right;\">\n",
              "      <th></th>\n",
              "      <th>Diagnosis Age</th>\n",
              "      <th>Cancer Type Detailed</th>\n",
              "      <th>ER Status By IHC</th>\n",
              "      <th>Fraction Genome Altered</th>\n",
              "      <th>Person Gender</th>\n",
              "      <th>Neoplasm Histologic Type Name</th>\n",
              "      <th>IHC-HER2</th>\n",
              "      <th>Primary Lymph Node Presentation Assessment Ind-3</th>\n",
              "      <th>Lymph Node(s) Examined Number</th>\n",
              "      <th>Menopause Status</th>\n",
              "      <th>First Pathologic Diagnosis Biospecimen Acquisition Method Type</th>\n",
              "      <th>Mutation Count</th>\n",
              "      <th>Oncotree Code</th>\n",
              "      <th>Primary Tumor Site</th>\n",
              "      <th>PR status by ihc</th>\n",
              "      <th>AgeCat</th>\n",
              "    </tr>\n",
              "  </thead>\n",
              "  <tbody>\n",
              "    <tr>\n",
              "      <th>0</th>\n",
              "      <td>70.0</td>\n",
              "      <td>Invasive Breast Carcinoma</td>\n",
              "      <td>Positive</td>\n",
              "      <td>0.000802</td>\n",
              "      <td>FEMALE</td>\n",
              "      <td>Other, specify</td>\n",
              "      <td>Negative</td>\n",
              "      <td>YES</td>\n",
              "      <td>2.0</td>\n",
              "      <td>Post (prior bilateral ovariectomy OR &gt;12 mo si...</td>\n",
              "      <td>Fine needle aspiration biopsy</td>\n",
              "      <td>18.0</td>\n",
              "      <td>BRCA</td>\n",
              "      <td>Left</td>\n",
              "      <td>Negative</td>\n",
              "      <td>60+</td>\n",
              "    </tr>\n",
              "    <tr>\n",
              "      <th>1</th>\n",
              "      <td>59.0</td>\n",
              "      <td>Breast Invasive Ductal Carcinoma</td>\n",
              "      <td>Positive</td>\n",
              "      <td>0.247381</td>\n",
              "      <td>FEMALE</td>\n",
              "      <td>Infiltrating Ductal Carcinoma</td>\n",
              "      <td>Negative</td>\n",
              "      <td>YES</td>\n",
              "      <td>3.0</td>\n",
              "      <td>NaN</td>\n",
              "      <td>Core needle biopsy</td>\n",
              "      <td>30.0</td>\n",
              "      <td>IDC</td>\n",
              "      <td>Left</td>\n",
              "      <td>Positive</td>\n",
              "      <td>45-60</td>\n",
              "    </tr>\n",
              "    <tr>\n",
              "      <th>2</th>\n",
              "      <td>56.0</td>\n",
              "      <td>Breast Invasive Lobular Carcinoma</td>\n",
              "      <td>Positive</td>\n",
              "      <td>0.213374</td>\n",
              "      <td>FEMALE</td>\n",
              "      <td>Mixed Histology (please specify)</td>\n",
              "      <td>Negative</td>\n",
              "      <td>NaN</td>\n",
              "      <td>8.0</td>\n",
              "      <td>Pre (&lt;6 months since LMP AND no prior bilatera...</td>\n",
              "      <td>Core needle biopsy</td>\n",
              "      <td>20.0</td>\n",
              "      <td>ILC</td>\n",
              "      <td>Left Upper Outer Quadrant</td>\n",
              "      <td>Positive</td>\n",
              "      <td>45-60</td>\n",
              "    </tr>\n",
              "    <tr>\n",
              "      <th>3</th>\n",
              "      <td>54.0</td>\n",
              "      <td>Breast Invasive Ductal Carcinoma</td>\n",
              "      <td>Positive</td>\n",
              "      <td>0.201518</td>\n",
              "      <td>FEMALE</td>\n",
              "      <td>Infiltrating Ductal Carcinoma</td>\n",
              "      <td>Negative</td>\n",
              "      <td>YES</td>\n",
              "      <td>2.0</td>\n",
              "      <td>Pre (&lt;6 months since LMP AND no prior bilatera...</td>\n",
              "      <td>Fine needle aspiration biopsy</td>\n",
              "      <td>38.0</td>\n",
              "      <td>IDC</td>\n",
              "      <td>Left</td>\n",
              "      <td>Positive</td>\n",
              "      <td>45-60</td>\n",
              "    </tr>\n",
              "    <tr>\n",
              "      <th>4</th>\n",
              "      <td>39.0</td>\n",
              "      <td>Breast Mixed Ductal and Lobular Carcinoma</td>\n",
              "      <td>Negative</td>\n",
              "      <td>0.178887</td>\n",
              "      <td>FEMALE</td>\n",
              "      <td>Infiltrating Ductal Carcinoma</td>\n",
              "      <td>Equivocal</td>\n",
              "      <td>NaN</td>\n",
              "      <td>2.0</td>\n",
              "      <td>Pre (&lt;6 months since LMP AND no prior bilatera...</td>\n",
              "      <td>Fine needle aspiration biopsy</td>\n",
              "      <td>78.0</td>\n",
              "      <td>MDLC</td>\n",
              "      <td>Left Upper Inner Quadrant</td>\n",
              "      <td>Positive</td>\n",
              "      <td>35-45</td>\n",
              "    </tr>\n",
              "  </tbody>\n",
              "</table>\n",
              "</div>"
            ],
            "text/plain": [
              "   Diagnosis Age  ... AgeCat\n",
              "0           70.0  ...    60+\n",
              "1           59.0  ...  45-60\n",
              "2           56.0  ...  45-60\n",
              "3           54.0  ...  45-60\n",
              "4           39.0  ...  35-45\n",
              "\n",
              "[5 rows x 16 columns]"
            ]
          },
          "metadata": {
            "tags": []
          },
          "execution_count": 20
        }
      ]
    },
    {
      "cell_type": "code",
      "metadata": {
        "id": "sqU82Jl2jtLr",
        "colab_type": "code",
        "colab": {}
      },
      "source": [
        "\n",
        "\n",
        "\n",
        "\n",
        "\n",
        "\n",
        "\n",
        "\n",
        "\n",
        "\n",
        "\n",
        "\n",
        "\n",
        "\n",
        "means=df.mean()"
      ],
      "execution_count": 0,
      "outputs": []
    },
    {
      "cell_type": "code",
      "metadata": {
        "id": "xZjgxjnXmlgp",
        "colab_type": "code",
        "colab": {}
      },
      "source": [
        "df.fillna(means,inplace=True)"
      ],
      "execution_count": 0,
      "outputs": []
    },
    {
      "cell_type": "code",
      "metadata": {
        "id": "gpr8pJAks59R",
        "colab_type": "code",
        "outputId": "17fc00d7-7d97-4d8b-f6a9-f9aa2a9c9529",
        "colab": {
          "base_uri": "https://localhost:8080/",
          "height": 301
        }
      },
      "source": [
        "df.isnull().sum()"
      ],
      "execution_count": 0,
      "outputs": [
        {
          "output_type": "execute_result",
          "data": {
            "text/plain": [
              "Diagnosis Age                                                       0\n",
              "Cancer Type Detailed                                                0\n",
              "ER Status By IHC                                                   40\n",
              "Fraction Genome Altered                                             0\n",
              "Person Gender                                                       0\n",
              "Neoplasm Histologic Type Name                                       1\n",
              "IHC-HER2                                                          135\n",
              "Primary Lymph Node Presentation Assessment Ind-3                  279\n",
              "Lymph Node(s) Examined Number                                       0\n",
              "Menopause Status                                                   55\n",
              "First Pathologic Diagnosis Biospecimen Acquisition Method Type     77\n",
              "Mutation Count                                                      0\n",
              "Oncotree Code                                                       0\n",
              "Primary Tumor Site                                                  1\n",
              "PR status by ihc                                                   41\n",
              "AgeCat                                                              0\n",
              "dtype: int64"
            ]
          },
          "metadata": {
            "tags": []
          },
          "execution_count": 22
        }
      ]
    },
    {
      "cell_type": "code",
      "metadata": {
        "id": "jMdbjwZJ17_8",
        "colab_type": "code",
        "outputId": "bcb601fd-fd5e-46dc-c1bb-91b8e30fd6f1",
        "colab": {
          "base_uri": "https://localhost:8080/",
          "height": 50
        }
      },
      "source": [
        "df['PR status by ihc'].mode()"
      ],
      "execution_count": 0,
      "outputs": [
        {
          "output_type": "execute_result",
          "data": {
            "text/plain": [
              "0    Positive\n",
              "dtype: object"
            ]
          },
          "metadata": {
            "tags": []
          },
          "execution_count": 78
        }
      ]
    },
    {
      "cell_type": "code",
      "metadata": {
        "id": "oVPisJk6hRgb",
        "colab_type": "code",
        "colab": {}
      },
      "source": [
        "df['PR status by ihc'].fillna('Positive',inplace=True)\n"
      ],
      "execution_count": 0,
      "outputs": []
    },
    {
      "cell_type": "code",
      "metadata": {
        "id": "tySNth-i_S60",
        "colab_type": "code",
        "outputId": "1cdfa6c3-d40a-452c-9d9b-8cbc7118bde1",
        "colab": {
          "base_uri": "https://localhost:8080/",
          "height": 50
        }
      },
      "source": [
        "df['Neoplasm Histologic Type Name'].mode()"
      ],
      "execution_count": 0,
      "outputs": [
        {
          "output_type": "execute_result",
          "data": {
            "text/plain": [
              "0    Infiltrating Ductal Carcinoma\n",
              "dtype: object"
            ]
          },
          "metadata": {
            "tags": []
          },
          "execution_count": 80
        }
      ]
    },
    {
      "cell_type": "code",
      "metadata": {
        "id": "xHLYwVIq_Sm3",
        "colab_type": "code",
        "colab": {}
      },
      "source": [
        "df['Neoplasm Histologic Type Name'].fillna('Infiltrating Ductal Carcinoma',inplace=True)"
      ],
      "execution_count": 0,
      "outputs": []
    },
    {
      "cell_type": "code",
      "metadata": {
        "id": "QqDbp4_S_Saa",
        "colab_type": "code",
        "outputId": "5a78ee33-9675-4472-82ad-16aefb26a5fa",
        "colab": {
          "base_uri": "https://localhost:8080/",
          "height": 50
        }
      },
      "source": [
        "df['ER Status By IHC'].mode()"
      ],
      "execution_count": 0,
      "outputs": [
        {
          "output_type": "execute_result",
          "data": {
            "text/plain": [
              "0    Positive\n",
              "dtype: object"
            ]
          },
          "metadata": {
            "tags": []
          },
          "execution_count": 82
        }
      ]
    },
    {
      "cell_type": "code",
      "metadata": {
        "id": "Y41cyuy5XvP3",
        "colab_type": "code",
        "colab": {}
      },
      "source": [
        "df['ER Status By IHC'].fillna('Positive',inplace=True)"
      ],
      "execution_count": 0,
      "outputs": []
    },
    {
      "cell_type": "code",
      "metadata": {
        "id": "vNz__Vc7XvL1",
        "colab_type": "code",
        "outputId": "04847ea1-229f-4140-c9b5-b8979e70e49a",
        "colab": {
          "base_uri": "https://localhost:8080/",
          "height": 50
        }
      },
      "source": [
        "df['IHC-HER2'].mode()"
      ],
      "execution_count": 0,
      "outputs": [
        {
          "output_type": "execute_result",
          "data": {
            "text/plain": [
              "0    Negative\n",
              "dtype: object"
            ]
          },
          "metadata": {
            "tags": []
          },
          "execution_count": 84
        }
      ]
    },
    {
      "cell_type": "code",
      "metadata": {
        "id": "-e31_yv8XvJm",
        "colab_type": "code",
        "colab": {}
      },
      "source": [
        "df['IHC-HER2'].fillna('Negative',inplace=True)"
      ],
      "execution_count": 0,
      "outputs": []
    },
    {
      "cell_type": "code",
      "metadata": {
        "id": "ZDhumDsGXvEz",
        "colab_type": "code",
        "outputId": "f64b687a-fac6-4417-ffad-29df137da462",
        "colab": {
          "base_uri": "https://localhost:8080/",
          "height": 50
        }
      },
      "source": [
        "df['Primary Lymph Node Presentation Assessment Ind-3'].mode()"
      ],
      "execution_count": 0,
      "outputs": [
        {
          "output_type": "execute_result",
          "data": {
            "text/plain": [
              "0    YES\n",
              "dtype: object"
            ]
          },
          "metadata": {
            "tags": []
          },
          "execution_count": 86
        }
      ]
    },
    {
      "cell_type": "code",
      "metadata": {
        "id": "KZ_H64PVXvCk",
        "colab_type": "code",
        "colab": {}
      },
      "source": [
        "df['Primary Lymph Node Presentation Assessment Ind-3'].fillna('YES',inplace=True)"
      ],
      "execution_count": 0,
      "outputs": []
    },
    {
      "cell_type": "code",
      "metadata": {
        "id": "8JX9emwPXu-W",
        "colab_type": "code",
        "outputId": "20bade40-0886-4778-fa8c-b7d6ad5a38ca",
        "colab": {
          "base_uri": "https://localhost:8080/",
          "height": 50
        }
      },
      "source": [
        "df['Menopause Status'].mode()"
      ],
      "execution_count": 0,
      "outputs": [
        {
          "output_type": "execute_result",
          "data": {
            "text/plain": [
              "0    Post (prior bilateral ovariectomy OR >12 mo si...\n",
              "dtype: object"
            ]
          },
          "metadata": {
            "tags": []
          },
          "execution_count": 88
        }
      ]
    },
    {
      "cell_type": "code",
      "metadata": {
        "id": "SqZGRuhOXu8P",
        "colab_type": "code",
        "colab": {}
      },
      "source": [
        "df['Menopause Status'].fillna('Post (prior bilateral ovariectomy OR >12 mo si...',inplace=True)"
      ],
      "execution_count": 0,
      "outputs": []
    },
    {
      "cell_type": "code",
      "metadata": {
        "id": "kZSgfLMqXu4j",
        "colab_type": "code",
        "outputId": "4f622e30-308d-4a6f-d31f-783edc62c363",
        "colab": {
          "base_uri": "https://localhost:8080/",
          "height": 50
        }
      },
      "source": [
        "df['First Pathologic Diagnosis Biospecimen Acquisition Method Type'].mode()"
      ],
      "execution_count": 0,
      "outputs": [
        {
          "output_type": "execute_result",
          "data": {
            "text/plain": [
              "0    Core needle biopsy\n",
              "dtype: object"
            ]
          },
          "metadata": {
            "tags": []
          },
          "execution_count": 90
        }
      ]
    },
    {
      "cell_type": "code",
      "metadata": {
        "id": "X3G9wOLuXu2S",
        "colab_type": "code",
        "colab": {}
      },
      "source": [
        "df['First Pathologic Diagnosis Biospecimen Acquisition Method Type'].fillna('Core needle biopsy',inplace=True)"
      ],
      "execution_count": 0,
      "outputs": []
    },
    {
      "cell_type": "code",
      "metadata": {
        "id": "LqAFOB3a_SNr",
        "colab_type": "code",
        "outputId": "77142426-3ae7-467e-d4f6-b4636022c53b",
        "colab": {
          "base_uri": "https://localhost:8080/",
          "height": 50
        }
      },
      "source": [
        "df['Primary Tumor Site'].mode()"
      ],
      "execution_count": 0,
      "outputs": [
        {
          "output_type": "execute_result",
          "data": {
            "text/plain": [
              "0    Left Upper Outer Quadrant\n",
              "dtype: object"
            ]
          },
          "metadata": {
            "tags": []
          },
          "execution_count": 92
        }
      ]
    },
    {
      "cell_type": "code",
      "metadata": {
        "id": "hBJnIiyIaSN0",
        "colab_type": "code",
        "colab": {}
      },
      "source": [
        "df['Primary Tumor Site'].fillna('Left Upper Outer Quadrant',inplace=True)"
      ],
      "execution_count": 0,
      "outputs": []
    },
    {
      "cell_type": "code",
      "metadata": {
        "id": "u_uYGpFZ3bkL",
        "colab_type": "code",
        "outputId": "7918225c-45a7-4dc2-ab86-b6f22b347725",
        "colab": {
          "base_uri": "https://localhost:8080/",
          "height": 301
        }
      },
      "source": [
        "df.isnull().sum()\n"
      ],
      "execution_count": 0,
      "outputs": [
        {
          "output_type": "execute_result",
          "data": {
            "text/plain": [
              "Diagnosis Age                                                     0\n",
              "Cancer Type Detailed                                              0\n",
              "ER Status By IHC                                                  0\n",
              "Fraction Genome Altered                                           0\n",
              "Person Gender                                                     0\n",
              "Neoplasm Histologic Type Name                                     0\n",
              "IHC-HER2                                                          0\n",
              "Primary Lymph Node Presentation Assessment Ind-3                  0\n",
              "Lymph Node(s) Examined Number                                     0\n",
              "Menopause Status                                                  0\n",
              "First Pathologic Diagnosis Biospecimen Acquisition Method Type    0\n",
              "Mutation Count                                                    0\n",
              "Oncotree Code                                                     0\n",
              "Primary Tumor Site                                                0\n",
              "PR status by ihc                                                  0\n",
              "AgeCat                                                            0\n",
              "dtype: int64"
            ]
          },
          "metadata": {
            "tags": []
          },
          "execution_count": 165
        }
      ]
    },
    {
      "cell_type": "code",
      "metadata": {
        "id": "tpKAxR8N3nAu",
        "colab_type": "code",
        "colab": {}
      },
      "source": [
        "X = df.drop(['Cancer Type Detailed'],axis=1)"
      ],
      "execution_count": 0,
      "outputs": []
    },
    {
      "cell_type": "code",
      "metadata": {
        "id": "UGDzRlXT5rxS",
        "colab_type": "code",
        "outputId": "4409002d-8278-449c-9c8d-f14ec9398f54",
        "colab": {
          "base_uri": "https://localhost:8080/",
          "height": 301
        }
      },
      "source": [
        "df.dtypes"
      ],
      "execution_count": 0,
      "outputs": [
        {
          "output_type": "execute_result",
          "data": {
            "text/plain": [
              "Diagnosis Age                                                     float64\n",
              "Cancer Type Detailed                                               object\n",
              "ER Status By IHC                                                   object\n",
              "Fraction Genome Altered                                           float64\n",
              "Person Gender                                                      object\n",
              "Neoplasm Histologic Type Name                                      object\n",
              "IHC-HER2                                                           object\n",
              "Primary Lymph Node Presentation Assessment Ind-3                   object\n",
              "Lymph Node(s) Examined Number                                     float64\n",
              "Menopause Status                                                   object\n",
              "First Pathologic Diagnosis Biospecimen Acquisition Method Type     object\n",
              "Mutation Count                                                    float64\n",
              "Oncotree Code                                                      object\n",
              "Primary Tumor Site                                                 object\n",
              "PR status by ihc                                                   object\n",
              "AgeCat                                                             object\n",
              "dtype: object"
            ]
          },
          "metadata": {
            "tags": []
          },
          "execution_count": 167
        }
      ]
    },
    {
      "cell_type": "code",
      "metadata": {
        "id": "RNAHjHfb6bxO",
        "colab_type": "code",
        "colab": {}
      },
      "source": [
        "Y = df['Cancer Type Detailed']"
      ],
      "execution_count": 0,
      "outputs": []
    },
    {
      "cell_type": "code",
      "metadata": {
        "id": "62LEl4k6lEmH",
        "colab_type": "code",
        "outputId": "c68936fb-4296-42e6-a446-1b0292d97b47",
        "colab": {
          "base_uri": "https://localhost:8080/",
          "height": 614
        }
      },
      "source": [
        "X.head()"
      ],
      "execution_count": 0,
      "outputs": [
        {
          "output_type": "execute_result",
          "data": {
            "text/html": [
              "<div>\n",
              "<style scoped>\n",
              "    .dataframe tbody tr th:only-of-type {\n",
              "        vertical-align: middle;\n",
              "    }\n",
              "\n",
              "    .dataframe tbody tr th {\n",
              "        vertical-align: top;\n",
              "    }\n",
              "\n",
              "    .dataframe thead th {\n",
              "        text-align: right;\n",
              "    }\n",
              "</style>\n",
              "<table border=\"1\" class=\"dataframe\">\n",
              "  <thead>\n",
              "    <tr style=\"text-align: right;\">\n",
              "      <th></th>\n",
              "      <th>Diagnosis Age</th>\n",
              "      <th>ER Status By IHC</th>\n",
              "      <th>Fraction Genome Altered</th>\n",
              "      <th>Person Gender</th>\n",
              "      <th>Neoplasm Histologic Type Name</th>\n",
              "      <th>IHC-HER2</th>\n",
              "      <th>Primary Lymph Node Presentation Assessment Ind-3</th>\n",
              "      <th>Lymph Node(s) Examined Number</th>\n",
              "      <th>Menopause Status</th>\n",
              "      <th>First Pathologic Diagnosis Biospecimen Acquisition Method Type</th>\n",
              "      <th>Mutation Count</th>\n",
              "      <th>Oncotree Code</th>\n",
              "      <th>Primary Tumor Site</th>\n",
              "      <th>PR status by ihc</th>\n",
              "      <th>AgeCat</th>\n",
              "    </tr>\n",
              "  </thead>\n",
              "  <tbody>\n",
              "    <tr>\n",
              "      <th>0</th>\n",
              "      <td>70.0</td>\n",
              "      <td>Positive</td>\n",
              "      <td>0.000802</td>\n",
              "      <td>FEMALE</td>\n",
              "      <td>Other, specify</td>\n",
              "      <td>Negative</td>\n",
              "      <td>YES</td>\n",
              "      <td>2.0</td>\n",
              "      <td>Post (prior bilateral ovariectomy OR &gt;12 mo si...</td>\n",
              "      <td>Fine needle aspiration biopsy</td>\n",
              "      <td>18.0</td>\n",
              "      <td>BRCA</td>\n",
              "      <td>Left</td>\n",
              "      <td>Negative</td>\n",
              "      <td>60+</td>\n",
              "    </tr>\n",
              "    <tr>\n",
              "      <th>1</th>\n",
              "      <td>59.0</td>\n",
              "      <td>Positive</td>\n",
              "      <td>0.247381</td>\n",
              "      <td>FEMALE</td>\n",
              "      <td>Infiltrating Ductal Carcinoma</td>\n",
              "      <td>Negative</td>\n",
              "      <td>YES</td>\n",
              "      <td>3.0</td>\n",
              "      <td>Post (prior bilateral ovariectomy OR &gt;12 mo si...</td>\n",
              "      <td>Core needle biopsy</td>\n",
              "      <td>30.0</td>\n",
              "      <td>IDC</td>\n",
              "      <td>Left</td>\n",
              "      <td>Positive</td>\n",
              "      <td>45-60</td>\n",
              "    </tr>\n",
              "    <tr>\n",
              "      <th>2</th>\n",
              "      <td>56.0</td>\n",
              "      <td>Positive</td>\n",
              "      <td>0.213374</td>\n",
              "      <td>FEMALE</td>\n",
              "      <td>Mixed Histology (please specify)</td>\n",
              "      <td>Negative</td>\n",
              "      <td>YES</td>\n",
              "      <td>8.0</td>\n",
              "      <td>Pre (&lt;6 months since LMP AND no prior bilatera...</td>\n",
              "      <td>Core needle biopsy</td>\n",
              "      <td>20.0</td>\n",
              "      <td>ILC</td>\n",
              "      <td>Left Upper Outer Quadrant</td>\n",
              "      <td>Positive</td>\n",
              "      <td>45-60</td>\n",
              "    </tr>\n",
              "    <tr>\n",
              "      <th>3</th>\n",
              "      <td>54.0</td>\n",
              "      <td>Positive</td>\n",
              "      <td>0.201518</td>\n",
              "      <td>FEMALE</td>\n",
              "      <td>Infiltrating Ductal Carcinoma</td>\n",
              "      <td>Negative</td>\n",
              "      <td>YES</td>\n",
              "      <td>2.0</td>\n",
              "      <td>Pre (&lt;6 months since LMP AND no prior bilatera...</td>\n",
              "      <td>Fine needle aspiration biopsy</td>\n",
              "      <td>38.0</td>\n",
              "      <td>IDC</td>\n",
              "      <td>Left</td>\n",
              "      <td>Positive</td>\n",
              "      <td>45-60</td>\n",
              "    </tr>\n",
              "    <tr>\n",
              "      <th>4</th>\n",
              "      <td>39.0</td>\n",
              "      <td>Negative</td>\n",
              "      <td>0.178887</td>\n",
              "      <td>FEMALE</td>\n",
              "      <td>Infiltrating Ductal Carcinoma</td>\n",
              "      <td>Equivocal</td>\n",
              "      <td>YES</td>\n",
              "      <td>2.0</td>\n",
              "      <td>Pre (&lt;6 months since LMP AND no prior bilatera...</td>\n",
              "      <td>Fine needle aspiration biopsy</td>\n",
              "      <td>78.0</td>\n",
              "      <td>MDLC</td>\n",
              "      <td>Left Upper Inner Quadrant</td>\n",
              "      <td>Positive</td>\n",
              "      <td>35-45</td>\n",
              "    </tr>\n",
              "  </tbody>\n",
              "</table>\n",
              "</div>"
            ],
            "text/plain": [
              "   Diagnosis Age ER Status By IHC  ...  PR status by ihc AgeCat\n",
              "0           70.0         Positive  ...          Negative    60+\n",
              "1           59.0         Positive  ...          Positive  45-60\n",
              "2           56.0         Positive  ...          Positive  45-60\n",
              "3           54.0         Positive  ...          Positive  45-60\n",
              "4           39.0         Negative  ...          Positive  35-45\n",
              "\n",
              "[5 rows x 15 columns]"
            ]
          },
          "metadata": {
            "tags": []
          },
          "execution_count": 169
        }
      ]
    },
    {
      "cell_type": "code",
      "metadata": {
        "id": "5qH6WUux6m5W",
        "colab_type": "code",
        "colab": {}
      },
      "source": [
        "X_label = X.drop(['Fraction Genome Altered','Lymph Node(s) Examined Number','Mutation Count'],axis=1)"
      ],
      "execution_count": 0,
      "outputs": []
    },
    {
      "cell_type": "code",
      "metadata": {
        "id": "gDgGDnTs7UuF",
        "colab_type": "code",
        "colab": {}
      },
      "source": [
        "X_minmax = X[['Fraction Genome Altered','Lymph Node(s) Examined Number','Mutation Count']]"
      ],
      "execution_count": 0,
      "outputs": []
    },
    {
      "cell_type": "code",
      "metadata": {
        "id": "wfIQ_o5F7hIG",
        "colab_type": "code",
        "colab": {}
      },
      "source": [
        "from sklearn.preprocessing import MinMaxScaler"
      ],
      "execution_count": 0,
      "outputs": []
    },
    {
      "cell_type": "code",
      "metadata": {
        "id": "KptB5FUN78ng",
        "colab_type": "code",
        "colab": {}
      },
      "source": [
        "scaler = MinMaxScaler()"
      ],
      "execution_count": 0,
      "outputs": []
    },
    {
      "cell_type": "code",
      "metadata": {
        "id": "QmWS0OX58CPN",
        "colab_type": "code",
        "colab": {}
      },
      "source": [
        "X_minmaxed = pd.DataFrame(scaler.fit_transform(X_minmax),columns=X_minmax.columns)"
      ],
      "execution_count": 0,
      "outputs": []
    },
    {
      "cell_type": "code",
      "metadata": {
        "id": "mo2EfVGJ8WIy",
        "colab_type": "code",
        "colab": {}
      },
      "source": [
        "from sklearn import preprocessing\n",
        "label = preprocessing.OrdinalEncoder()"
      ],
      "execution_count": 0,
      "outputs": []
    },
    {
      "cell_type": "code",
      "metadata": {
        "id": "ldVwsLZ59aXQ",
        "colab_type": "code",
        "colab": {}
      },
      "source": [
        "X_labeled = pd.DataFrame(label.fit_transform(X_label),columns=X_label.columns)"
      ],
      "execution_count": 0,
      "outputs": []
    },
    {
      "cell_type": "code",
      "metadata": {
        "id": "ok3_ZwRe9j7L",
        "colab_type": "code",
        "outputId": "94011140-ba21-46b1-a7e8-48e2108d4726",
        "colab": {
          "base_uri": "https://localhost:8080/",
          "height": 1000
        }
      },
      "source": [
        "X_labeled"
      ],
      "execution_count": 0,
      "outputs": [
        {
          "output_type": "execute_result",
          "data": {
            "text/html": [
              "<div>\n",
              "<style scoped>\n",
              "    .dataframe tbody tr th:only-of-type {\n",
              "        vertical-align: middle;\n",
              "    }\n",
              "\n",
              "    .dataframe tbody tr th {\n",
              "        vertical-align: top;\n",
              "    }\n",
              "\n",
              "    .dataframe thead th {\n",
              "        text-align: right;\n",
              "    }\n",
              "</style>\n",
              "<table border=\"1\" class=\"dataframe\">\n",
              "  <thead>\n",
              "    <tr style=\"text-align: right;\">\n",
              "      <th></th>\n",
              "      <th>Diagnosis Age</th>\n",
              "      <th>ER Status By IHC</th>\n",
              "      <th>Person Gender</th>\n",
              "      <th>Neoplasm Histologic Type Name</th>\n",
              "      <th>IHC-HER2</th>\n",
              "      <th>Primary Lymph Node Presentation Assessment Ind-3</th>\n",
              "      <th>Menopause Status</th>\n",
              "      <th>First Pathologic Diagnosis Biospecimen Acquisition Method Type</th>\n",
              "      <th>Oncotree Code</th>\n",
              "      <th>Primary Tumor Site</th>\n",
              "      <th>PR status by ihc</th>\n",
              "      <th>AgeCat</th>\n",
              "    </tr>\n",
              "  </thead>\n",
              "  <tbody>\n",
              "    <tr>\n",
              "      <th>0</th>\n",
              "      <td>44.0</td>\n",
              "      <td>2.0</td>\n",
              "      <td>0.0</td>\n",
              "      <td>7.0</td>\n",
              "      <td>2.0</td>\n",
              "      <td>1.0</td>\n",
              "      <td>3.0</td>\n",
              "      <td>3.0</td>\n",
              "      <td>0.0</td>\n",
              "      <td>0.0</td>\n",
              "      <td>1.0</td>\n",
              "      <td>4.0</td>\n",
              "    </tr>\n",
              "    <tr>\n",
              "      <th>1</th>\n",
              "      <td>33.0</td>\n",
              "      <td>2.0</td>\n",
              "      <td>0.0</td>\n",
              "      <td>1.0</td>\n",
              "      <td>2.0</td>\n",
              "      <td>1.0</td>\n",
              "      <td>2.0</td>\n",
              "      <td>0.0</td>\n",
              "      <td>1.0</td>\n",
              "      <td>0.0</td>\n",
              "      <td>2.0</td>\n",
              "      <td>3.0</td>\n",
              "    </tr>\n",
              "    <tr>\n",
              "      <th>2</th>\n",
              "      <td>29.0</td>\n",
              "      <td>2.0</td>\n",
              "      <td>0.0</td>\n",
              "      <td>5.0</td>\n",
              "      <td>2.0</td>\n",
              "      <td>1.0</td>\n",
              "      <td>4.0</td>\n",
              "      <td>0.0</td>\n",
              "      <td>2.0</td>\n",
              "      <td>15.0</td>\n",
              "      <td>2.0</td>\n",
              "      <td>3.0</td>\n",
              "    </tr>\n",
              "    <tr>\n",
              "      <th>3</th>\n",
              "      <td>27.0</td>\n",
              "      <td>2.0</td>\n",
              "      <td>0.0</td>\n",
              "      <td>1.0</td>\n",
              "      <td>2.0</td>\n",
              "      <td>1.0</td>\n",
              "      <td>4.0</td>\n",
              "      <td>3.0</td>\n",
              "      <td>1.0</td>\n",
              "      <td>0.0</td>\n",
              "      <td>2.0</td>\n",
              "      <td>3.0</td>\n",
              "    </tr>\n",
              "    <tr>\n",
              "      <th>4</th>\n",
              "      <td>12.0</td>\n",
              "      <td>1.0</td>\n",
              "      <td>0.0</td>\n",
              "      <td>1.0</td>\n",
              "      <td>0.0</td>\n",
              "      <td>1.0</td>\n",
              "      <td>4.0</td>\n",
              "      <td>3.0</td>\n",
              "      <td>3.0</td>\n",
              "      <td>7.0</td>\n",
              "      <td>2.0</td>\n",
              "      <td>2.0</td>\n",
              "    </tr>\n",
              "    <tr>\n",
              "      <th>5</th>\n",
              "      <td>25.0</td>\n",
              "      <td>2.0</td>\n",
              "      <td>0.0</td>\n",
              "      <td>1.0</td>\n",
              "      <td>2.0</td>\n",
              "      <td>1.0</td>\n",
              "      <td>2.0</td>\n",
              "      <td>3.0</td>\n",
              "      <td>1.0</td>\n",
              "      <td>22.0</td>\n",
              "      <td>2.0</td>\n",
              "      <td>3.0</td>\n",
              "    </tr>\n",
              "    <tr>\n",
              "      <th>6</th>\n",
              "      <td>12.0</td>\n",
              "      <td>2.0</td>\n",
              "      <td>0.0</td>\n",
              "      <td>1.0</td>\n",
              "      <td>0.0</td>\n",
              "      <td>1.0</td>\n",
              "      <td>2.0</td>\n",
              "      <td>0.0</td>\n",
              "      <td>1.0</td>\n",
              "      <td>0.0</td>\n",
              "      <td>2.0</td>\n",
              "      <td>2.0</td>\n",
              "    </tr>\n",
              "    <tr>\n",
              "      <th>7</th>\n",
              "      <td>27.0</td>\n",
              "      <td>1.0</td>\n",
              "      <td>0.0</td>\n",
              "      <td>7.0</td>\n",
              "      <td>2.0</td>\n",
              "      <td>1.0</td>\n",
              "      <td>0.0</td>\n",
              "      <td>2.0</td>\n",
              "      <td>0.0</td>\n",
              "      <td>35.0</td>\n",
              "      <td>1.0</td>\n",
              "      <td>3.0</td>\n",
              "    </tr>\n",
              "    <tr>\n",
              "      <th>8</th>\n",
              "      <td>51.0</td>\n",
              "      <td>2.0</td>\n",
              "      <td>1.0</td>\n",
              "      <td>1.0</td>\n",
              "      <td>3.0</td>\n",
              "      <td>1.0</td>\n",
              "      <td>2.0</td>\n",
              "      <td>0.0</td>\n",
              "      <td>1.0</td>\n",
              "      <td>0.0</td>\n",
              "      <td>1.0</td>\n",
              "      <td>4.0</td>\n",
              "    </tr>\n",
              "    <tr>\n",
              "      <th>9</th>\n",
              "      <td>23.0</td>\n",
              "      <td>2.0</td>\n",
              "      <td>0.0</td>\n",
              "      <td>1.0</td>\n",
              "      <td>3.0</td>\n",
              "      <td>1.0</td>\n",
              "      <td>3.0</td>\n",
              "      <td>0.0</td>\n",
              "      <td>1.0</td>\n",
              "      <td>0.0</td>\n",
              "      <td>2.0</td>\n",
              "      <td>3.0</td>\n",
              "    </tr>\n",
              "    <tr>\n",
              "      <th>10</th>\n",
              "      <td>13.0</td>\n",
              "      <td>1.0</td>\n",
              "      <td>0.0</td>\n",
              "      <td>1.0</td>\n",
              "      <td>2.0</td>\n",
              "      <td>1.0</td>\n",
              "      <td>2.0</td>\n",
              "      <td>3.0</td>\n",
              "      <td>1.0</td>\n",
              "      <td>22.0</td>\n",
              "      <td>1.0</td>\n",
              "      <td>2.0</td>\n",
              "    </tr>\n",
              "    <tr>\n",
              "      <th>11</th>\n",
              "      <td>18.0</td>\n",
              "      <td>2.0</td>\n",
              "      <td>0.0</td>\n",
              "      <td>1.0</td>\n",
              "      <td>2.0</td>\n",
              "      <td>1.0</td>\n",
              "      <td>4.0</td>\n",
              "      <td>0.0</td>\n",
              "      <td>1.0</td>\n",
              "      <td>0.0</td>\n",
              "      <td>2.0</td>\n",
              "      <td>2.0</td>\n",
              "    </tr>\n",
              "    <tr>\n",
              "      <th>12</th>\n",
              "      <td>40.0</td>\n",
              "      <td>2.0</td>\n",
              "      <td>0.0</td>\n",
              "      <td>1.0</td>\n",
              "      <td>2.0</td>\n",
              "      <td>1.0</td>\n",
              "      <td>3.0</td>\n",
              "      <td>3.0</td>\n",
              "      <td>0.0</td>\n",
              "      <td>22.0</td>\n",
              "      <td>2.0</td>\n",
              "      <td>4.0</td>\n",
              "    </tr>\n",
              "    <tr>\n",
              "      <th>13</th>\n",
              "      <td>9.0</td>\n",
              "      <td>1.0</td>\n",
              "      <td>0.0</td>\n",
              "      <td>1.0</td>\n",
              "      <td>2.0</td>\n",
              "      <td>1.0</td>\n",
              "      <td>4.0</td>\n",
              "      <td>2.0</td>\n",
              "      <td>1.0</td>\n",
              "      <td>0.0</td>\n",
              "      <td>1.0</td>\n",
              "      <td>2.0</td>\n",
              "    </tr>\n",
              "    <tr>\n",
              "      <th>14</th>\n",
              "      <td>21.0</td>\n",
              "      <td>1.0</td>\n",
              "      <td>0.0</td>\n",
              "      <td>1.0</td>\n",
              "      <td>0.0</td>\n",
              "      <td>1.0</td>\n",
              "      <td>3.0</td>\n",
              "      <td>5.0</td>\n",
              "      <td>1.0</td>\n",
              "      <td>36.0</td>\n",
              "      <td>1.0</td>\n",
              "      <td>3.0</td>\n",
              "    </tr>\n",
              "    <tr>\n",
              "      <th>15</th>\n",
              "      <td>9.0</td>\n",
              "      <td>2.0</td>\n",
              "      <td>0.0</td>\n",
              "      <td>1.0</td>\n",
              "      <td>0.0</td>\n",
              "      <td>1.0</td>\n",
              "      <td>4.0</td>\n",
              "      <td>0.0</td>\n",
              "      <td>1.0</td>\n",
              "      <td>7.0</td>\n",
              "      <td>2.0</td>\n",
              "      <td>2.0</td>\n",
              "    </tr>\n",
              "    <tr>\n",
              "      <th>16</th>\n",
              "      <td>36.0</td>\n",
              "      <td>1.0</td>\n",
              "      <td>0.0</td>\n",
              "      <td>1.0</td>\n",
              "      <td>0.0</td>\n",
              "      <td>1.0</td>\n",
              "      <td>3.0</td>\n",
              "      <td>0.0</td>\n",
              "      <td>1.0</td>\n",
              "      <td>7.0</td>\n",
              "      <td>1.0</td>\n",
              "      <td>4.0</td>\n",
              "    </tr>\n",
              "    <tr>\n",
              "      <th>17</th>\n",
              "      <td>20.0</td>\n",
              "      <td>1.0</td>\n",
              "      <td>0.0</td>\n",
              "      <td>1.0</td>\n",
              "      <td>2.0</td>\n",
              "      <td>1.0</td>\n",
              "      <td>1.0</td>\n",
              "      <td>0.0</td>\n",
              "      <td>1.0</td>\n",
              "      <td>22.0</td>\n",
              "      <td>1.0</td>\n",
              "      <td>3.0</td>\n",
              "    </tr>\n",
              "    <tr>\n",
              "      <th>18</th>\n",
              "      <td>12.0</td>\n",
              "      <td>2.0</td>\n",
              "      <td>0.0</td>\n",
              "      <td>1.0</td>\n",
              "      <td>0.0</td>\n",
              "      <td>1.0</td>\n",
              "      <td>4.0</td>\n",
              "      <td>0.0</td>\n",
              "      <td>1.0</td>\n",
              "      <td>27.0</td>\n",
              "      <td>2.0</td>\n",
              "      <td>2.0</td>\n",
              "    </tr>\n",
              "    <tr>\n",
              "      <th>19</th>\n",
              "      <td>23.0</td>\n",
              "      <td>1.0</td>\n",
              "      <td>0.0</td>\n",
              "      <td>7.0</td>\n",
              "      <td>3.0</td>\n",
              "      <td>1.0</td>\n",
              "      <td>4.0</td>\n",
              "      <td>0.0</td>\n",
              "      <td>0.0</td>\n",
              "      <td>35.0</td>\n",
              "      <td>1.0</td>\n",
              "      <td>3.0</td>\n",
              "    </tr>\n",
              "    <tr>\n",
              "      <th>20</th>\n",
              "      <td>7.0</td>\n",
              "      <td>2.0</td>\n",
              "      <td>0.0</td>\n",
              "      <td>1.0</td>\n",
              "      <td>3.0</td>\n",
              "      <td>1.0</td>\n",
              "      <td>4.0</td>\n",
              "      <td>0.0</td>\n",
              "      <td>1.0</td>\n",
              "      <td>0.0</td>\n",
              "      <td>2.0</td>\n",
              "      <td>1.0</td>\n",
              "    </tr>\n",
              "    <tr>\n",
              "      <th>21</th>\n",
              "      <td>26.0</td>\n",
              "      <td>2.0</td>\n",
              "      <td>0.0</td>\n",
              "      <td>1.0</td>\n",
              "      <td>2.0</td>\n",
              "      <td>1.0</td>\n",
              "      <td>3.0</td>\n",
              "      <td>0.0</td>\n",
              "      <td>0.0</td>\n",
              "      <td>35.0</td>\n",
              "      <td>2.0</td>\n",
              "      <td>3.0</td>\n",
              "    </tr>\n",
              "    <tr>\n",
              "      <th>22</th>\n",
              "      <td>34.0</td>\n",
              "      <td>2.0</td>\n",
              "      <td>0.0</td>\n",
              "      <td>2.0</td>\n",
              "      <td>2.0</td>\n",
              "      <td>1.0</td>\n",
              "      <td>3.0</td>\n",
              "      <td>2.0</td>\n",
              "      <td>2.0</td>\n",
              "      <td>22.0</td>\n",
              "      <td>2.0</td>\n",
              "      <td>3.0</td>\n",
              "    </tr>\n",
              "    <tr>\n",
              "      <th>23</th>\n",
              "      <td>10.0</td>\n",
              "      <td>2.0</td>\n",
              "      <td>0.0</td>\n",
              "      <td>1.0</td>\n",
              "      <td>2.0</td>\n",
              "      <td>1.0</td>\n",
              "      <td>4.0</td>\n",
              "      <td>0.0</td>\n",
              "      <td>1.0</td>\n",
              "      <td>26.0</td>\n",
              "      <td>2.0</td>\n",
              "      <td>2.0</td>\n",
              "    </tr>\n",
              "    <tr>\n",
              "      <th>24</th>\n",
              "      <td>13.0</td>\n",
              "      <td>1.0</td>\n",
              "      <td>0.0</td>\n",
              "      <td>1.0</td>\n",
              "      <td>2.0</td>\n",
              "      <td>1.0</td>\n",
              "      <td>4.0</td>\n",
              "      <td>2.0</td>\n",
              "      <td>1.0</td>\n",
              "      <td>0.0</td>\n",
              "      <td>1.0</td>\n",
              "      <td>2.0</td>\n",
              "    </tr>\n",
              "    <tr>\n",
              "      <th>25</th>\n",
              "      <td>59.0</td>\n",
              "      <td>2.0</td>\n",
              "      <td>0.0</td>\n",
              "      <td>2.0</td>\n",
              "      <td>2.0</td>\n",
              "      <td>1.0</td>\n",
              "      <td>3.0</td>\n",
              "      <td>0.0</td>\n",
              "      <td>2.0</td>\n",
              "      <td>22.0</td>\n",
              "      <td>2.0</td>\n",
              "      <td>4.0</td>\n",
              "    </tr>\n",
              "    <tr>\n",
              "      <th>26</th>\n",
              "      <td>34.0</td>\n",
              "      <td>2.0</td>\n",
              "      <td>0.0</td>\n",
              "      <td>1.0</td>\n",
              "      <td>2.0</td>\n",
              "      <td>1.0</td>\n",
              "      <td>3.0</td>\n",
              "      <td>0.0</td>\n",
              "      <td>1.0</td>\n",
              "      <td>22.0</td>\n",
              "      <td>2.0</td>\n",
              "      <td>3.0</td>\n",
              "    </tr>\n",
              "    <tr>\n",
              "      <th>27</th>\n",
              "      <td>36.0</td>\n",
              "      <td>2.0</td>\n",
              "      <td>0.0</td>\n",
              "      <td>1.0</td>\n",
              "      <td>0.0</td>\n",
              "      <td>1.0</td>\n",
              "      <td>3.0</td>\n",
              "      <td>0.0</td>\n",
              "      <td>1.0</td>\n",
              "      <td>22.0</td>\n",
              "      <td>2.0</td>\n",
              "      <td>4.0</td>\n",
              "    </tr>\n",
              "    <tr>\n",
              "      <th>28</th>\n",
              "      <td>27.0</td>\n",
              "      <td>2.0</td>\n",
              "      <td>0.0</td>\n",
              "      <td>2.0</td>\n",
              "      <td>2.0</td>\n",
              "      <td>1.0</td>\n",
              "      <td>3.0</td>\n",
              "      <td>0.0</td>\n",
              "      <td>2.0</td>\n",
              "      <td>7.0</td>\n",
              "      <td>2.0</td>\n",
              "      <td>3.0</td>\n",
              "    </tr>\n",
              "    <tr>\n",
              "      <th>29</th>\n",
              "      <td>47.0</td>\n",
              "      <td>2.0</td>\n",
              "      <td>0.0</td>\n",
              "      <td>1.0</td>\n",
              "      <td>0.0</td>\n",
              "      <td>1.0</td>\n",
              "      <td>3.0</td>\n",
              "      <td>5.0</td>\n",
              "      <td>1.0</td>\n",
              "      <td>0.0</td>\n",
              "      <td>2.0</td>\n",
              "      <td>4.0</td>\n",
              "    </tr>\n",
              "    <tr>\n",
              "      <th>...</th>\n",
              "      <td>...</td>\n",
              "      <td>...</td>\n",
              "      <td>...</td>\n",
              "      <td>...</td>\n",
              "      <td>...</td>\n",
              "      <td>...</td>\n",
              "      <td>...</td>\n",
              "      <td>...</td>\n",
              "      <td>...</td>\n",
              "      <td>...</td>\n",
              "      <td>...</td>\n",
              "      <td>...</td>\n",
              "    </tr>\n",
              "    <tr>\n",
              "      <th>788</th>\n",
              "      <td>31.0</td>\n",
              "      <td>1.0</td>\n",
              "      <td>0.0</td>\n",
              "      <td>1.0</td>\n",
              "      <td>2.0</td>\n",
              "      <td>1.0</td>\n",
              "      <td>3.0</td>\n",
              "      <td>0.0</td>\n",
              "      <td>1.0</td>\n",
              "      <td>35.0</td>\n",
              "      <td>1.0</td>\n",
              "      <td>3.0</td>\n",
              "    </tr>\n",
              "    <tr>\n",
              "      <th>789</th>\n",
              "      <td>25.0</td>\n",
              "      <td>1.0</td>\n",
              "      <td>0.0</td>\n",
              "      <td>1.0</td>\n",
              "      <td>2.0</td>\n",
              "      <td>1.0</td>\n",
              "      <td>4.0</td>\n",
              "      <td>0.0</td>\n",
              "      <td>1.0</td>\n",
              "      <td>7.0</td>\n",
              "      <td>1.0</td>\n",
              "      <td>3.0</td>\n",
              "    </tr>\n",
              "    <tr>\n",
              "      <th>790</th>\n",
              "      <td>31.0</td>\n",
              "      <td>2.0</td>\n",
              "      <td>0.0</td>\n",
              "      <td>1.0</td>\n",
              "      <td>2.0</td>\n",
              "      <td>1.0</td>\n",
              "      <td>3.0</td>\n",
              "      <td>0.0</td>\n",
              "      <td>1.0</td>\n",
              "      <td>35.0</td>\n",
              "      <td>1.0</td>\n",
              "      <td>3.0</td>\n",
              "    </tr>\n",
              "    <tr>\n",
              "      <th>791</th>\n",
              "      <td>23.0</td>\n",
              "      <td>2.0</td>\n",
              "      <td>0.0</td>\n",
              "      <td>1.0</td>\n",
              "      <td>2.0</td>\n",
              "      <td>1.0</td>\n",
              "      <td>1.0</td>\n",
              "      <td>0.0</td>\n",
              "      <td>1.0</td>\n",
              "      <td>15.0</td>\n",
              "      <td>2.0</td>\n",
              "      <td>3.0</td>\n",
              "    </tr>\n",
              "    <tr>\n",
              "      <th>792</th>\n",
              "      <td>30.0</td>\n",
              "      <td>2.0</td>\n",
              "      <td>0.0</td>\n",
              "      <td>1.0</td>\n",
              "      <td>2.0</td>\n",
              "      <td>1.0</td>\n",
              "      <td>3.0</td>\n",
              "      <td>0.0</td>\n",
              "      <td>0.0</td>\n",
              "      <td>26.0</td>\n",
              "      <td>2.0</td>\n",
              "      <td>3.0</td>\n",
              "    </tr>\n",
              "    <tr>\n",
              "      <th>793</th>\n",
              "      <td>31.0</td>\n",
              "      <td>2.0</td>\n",
              "      <td>0.0</td>\n",
              "      <td>1.0</td>\n",
              "      <td>2.0</td>\n",
              "      <td>1.0</td>\n",
              "      <td>3.0</td>\n",
              "      <td>0.0</td>\n",
              "      <td>1.0</td>\n",
              "      <td>15.0</td>\n",
              "      <td>2.0</td>\n",
              "      <td>3.0</td>\n",
              "    </tr>\n",
              "    <tr>\n",
              "      <th>794</th>\n",
              "      <td>27.0</td>\n",
              "      <td>2.0</td>\n",
              "      <td>0.0</td>\n",
              "      <td>2.0</td>\n",
              "      <td>2.0</td>\n",
              "      <td>1.0</td>\n",
              "      <td>3.0</td>\n",
              "      <td>0.0</td>\n",
              "      <td>3.0</td>\n",
              "      <td>35.0</td>\n",
              "      <td>2.0</td>\n",
              "      <td>3.0</td>\n",
              "    </tr>\n",
              "    <tr>\n",
              "      <th>795</th>\n",
              "      <td>37.0</td>\n",
              "      <td>1.0</td>\n",
              "      <td>0.0</td>\n",
              "      <td>2.0</td>\n",
              "      <td>0.0</td>\n",
              "      <td>1.0</td>\n",
              "      <td>3.0</td>\n",
              "      <td>0.0</td>\n",
              "      <td>2.0</td>\n",
              "      <td>7.0</td>\n",
              "      <td>2.0</td>\n",
              "      <td>4.0</td>\n",
              "    </tr>\n",
              "    <tr>\n",
              "      <th>796</th>\n",
              "      <td>46.0</td>\n",
              "      <td>2.0</td>\n",
              "      <td>0.0</td>\n",
              "      <td>2.0</td>\n",
              "      <td>2.0</td>\n",
              "      <td>1.0</td>\n",
              "      <td>3.0</td>\n",
              "      <td>0.0</td>\n",
              "      <td>2.0</td>\n",
              "      <td>15.0</td>\n",
              "      <td>2.0</td>\n",
              "      <td>4.0</td>\n",
              "    </tr>\n",
              "    <tr>\n",
              "      <th>797</th>\n",
              "      <td>19.0</td>\n",
              "      <td>2.0</td>\n",
              "      <td>0.0</td>\n",
              "      <td>2.0</td>\n",
              "      <td>2.0</td>\n",
              "      <td>1.0</td>\n",
              "      <td>4.0</td>\n",
              "      <td>0.0</td>\n",
              "      <td>2.0</td>\n",
              "      <td>41.0</td>\n",
              "      <td>2.0</td>\n",
              "      <td>3.0</td>\n",
              "    </tr>\n",
              "    <tr>\n",
              "      <th>798</th>\n",
              "      <td>22.0</td>\n",
              "      <td>1.0</td>\n",
              "      <td>0.0</td>\n",
              "      <td>1.0</td>\n",
              "      <td>2.0</td>\n",
              "      <td>1.0</td>\n",
              "      <td>3.0</td>\n",
              "      <td>0.0</td>\n",
              "      <td>1.0</td>\n",
              "      <td>41.0</td>\n",
              "      <td>1.0</td>\n",
              "      <td>3.0</td>\n",
              "    </tr>\n",
              "    <tr>\n",
              "      <th>799</th>\n",
              "      <td>17.0</td>\n",
              "      <td>2.0</td>\n",
              "      <td>0.0</td>\n",
              "      <td>2.0</td>\n",
              "      <td>2.0</td>\n",
              "      <td>1.0</td>\n",
              "      <td>3.0</td>\n",
              "      <td>4.0</td>\n",
              "      <td>2.0</td>\n",
              "      <td>21.0</td>\n",
              "      <td>2.0</td>\n",
              "      <td>2.0</td>\n",
              "    </tr>\n",
              "    <tr>\n",
              "      <th>800</th>\n",
              "      <td>41.0</td>\n",
              "      <td>2.0</td>\n",
              "      <td>0.0</td>\n",
              "      <td>2.0</td>\n",
              "      <td>2.0</td>\n",
              "      <td>1.0</td>\n",
              "      <td>3.0</td>\n",
              "      <td>0.0</td>\n",
              "      <td>2.0</td>\n",
              "      <td>20.0</td>\n",
              "      <td>2.0</td>\n",
              "      <td>4.0</td>\n",
              "    </tr>\n",
              "    <tr>\n",
              "      <th>801</th>\n",
              "      <td>29.0</td>\n",
              "      <td>1.0</td>\n",
              "      <td>0.0</td>\n",
              "      <td>2.0</td>\n",
              "      <td>2.0</td>\n",
              "      <td>1.0</td>\n",
              "      <td>3.0</td>\n",
              "      <td>6.0</td>\n",
              "      <td>2.0</td>\n",
              "      <td>15.0</td>\n",
              "      <td>1.0</td>\n",
              "      <td>3.0</td>\n",
              "    </tr>\n",
              "    <tr>\n",
              "      <th>802</th>\n",
              "      <td>22.0</td>\n",
              "      <td>2.0</td>\n",
              "      <td>0.0</td>\n",
              "      <td>2.0</td>\n",
              "      <td>3.0</td>\n",
              "      <td>1.0</td>\n",
              "      <td>3.0</td>\n",
              "      <td>6.0</td>\n",
              "      <td>3.0</td>\n",
              "      <td>0.0</td>\n",
              "      <td>2.0</td>\n",
              "      <td>3.0</td>\n",
              "    </tr>\n",
              "    <tr>\n",
              "      <th>803</th>\n",
              "      <td>19.0</td>\n",
              "      <td>2.0</td>\n",
              "      <td>0.0</td>\n",
              "      <td>2.0</td>\n",
              "      <td>3.0</td>\n",
              "      <td>1.0</td>\n",
              "      <td>3.0</td>\n",
              "      <td>6.0</td>\n",
              "      <td>0.0</td>\n",
              "      <td>0.0</td>\n",
              "      <td>2.0</td>\n",
              "      <td>3.0</td>\n",
              "    </tr>\n",
              "    <tr>\n",
              "      <th>804</th>\n",
              "      <td>35.0</td>\n",
              "      <td>2.0</td>\n",
              "      <td>0.0</td>\n",
              "      <td>2.0</td>\n",
              "      <td>0.0</td>\n",
              "      <td>1.0</td>\n",
              "      <td>3.0</td>\n",
              "      <td>0.0</td>\n",
              "      <td>2.0</td>\n",
              "      <td>15.0</td>\n",
              "      <td>2.0</td>\n",
              "      <td>4.0</td>\n",
              "    </tr>\n",
              "    <tr>\n",
              "      <th>805</th>\n",
              "      <td>36.0</td>\n",
              "      <td>1.0</td>\n",
              "      <td>0.0</td>\n",
              "      <td>1.0</td>\n",
              "      <td>2.0</td>\n",
              "      <td>1.0</td>\n",
              "      <td>3.0</td>\n",
              "      <td>0.0</td>\n",
              "      <td>1.0</td>\n",
              "      <td>35.0</td>\n",
              "      <td>1.0</td>\n",
              "      <td>4.0</td>\n",
              "    </tr>\n",
              "    <tr>\n",
              "      <th>806</th>\n",
              "      <td>58.0</td>\n",
              "      <td>2.0</td>\n",
              "      <td>0.0</td>\n",
              "      <td>2.0</td>\n",
              "      <td>0.0</td>\n",
              "      <td>1.0</td>\n",
              "      <td>3.0</td>\n",
              "      <td>0.0</td>\n",
              "      <td>3.0</td>\n",
              "      <td>35.0</td>\n",
              "      <td>2.0</td>\n",
              "      <td>4.0</td>\n",
              "    </tr>\n",
              "    <tr>\n",
              "      <th>807</th>\n",
              "      <td>38.0</td>\n",
              "      <td>2.0</td>\n",
              "      <td>0.0</td>\n",
              "      <td>2.0</td>\n",
              "      <td>3.0</td>\n",
              "      <td>1.0</td>\n",
              "      <td>3.0</td>\n",
              "      <td>0.0</td>\n",
              "      <td>3.0</td>\n",
              "      <td>40.0</td>\n",
              "      <td>1.0</td>\n",
              "      <td>4.0</td>\n",
              "    </tr>\n",
              "    <tr>\n",
              "      <th>808</th>\n",
              "      <td>62.0</td>\n",
              "      <td>2.0</td>\n",
              "      <td>0.0</td>\n",
              "      <td>1.0</td>\n",
              "      <td>0.0</td>\n",
              "      <td>0.0</td>\n",
              "      <td>3.0</td>\n",
              "      <td>0.0</td>\n",
              "      <td>1.0</td>\n",
              "      <td>19.0</td>\n",
              "      <td>2.0</td>\n",
              "      <td>4.0</td>\n",
              "    </tr>\n",
              "    <tr>\n",
              "      <th>809</th>\n",
              "      <td>19.0</td>\n",
              "      <td>2.0</td>\n",
              "      <td>0.0</td>\n",
              "      <td>1.0</td>\n",
              "      <td>0.0</td>\n",
              "      <td>1.0</td>\n",
              "      <td>3.0</td>\n",
              "      <td>0.0</td>\n",
              "      <td>1.0</td>\n",
              "      <td>40.0</td>\n",
              "      <td>2.0</td>\n",
              "      <td>3.0</td>\n",
              "    </tr>\n",
              "    <tr>\n",
              "      <th>810</th>\n",
              "      <td>23.0</td>\n",
              "      <td>1.0</td>\n",
              "      <td>0.0</td>\n",
              "      <td>1.0</td>\n",
              "      <td>2.0</td>\n",
              "      <td>1.0</td>\n",
              "      <td>4.0</td>\n",
              "      <td>0.0</td>\n",
              "      <td>1.0</td>\n",
              "      <td>15.0</td>\n",
              "      <td>1.0</td>\n",
              "      <td>3.0</td>\n",
              "    </tr>\n",
              "    <tr>\n",
              "      <th>811</th>\n",
              "      <td>22.0</td>\n",
              "      <td>2.0</td>\n",
              "      <td>0.0</td>\n",
              "      <td>1.0</td>\n",
              "      <td>2.0</td>\n",
              "      <td>1.0</td>\n",
              "      <td>3.0</td>\n",
              "      <td>0.0</td>\n",
              "      <td>1.0</td>\n",
              "      <td>39.0</td>\n",
              "      <td>1.0</td>\n",
              "      <td>3.0</td>\n",
              "    </tr>\n",
              "    <tr>\n",
              "      <th>812</th>\n",
              "      <td>47.0</td>\n",
              "      <td>2.0</td>\n",
              "      <td>0.0</td>\n",
              "      <td>2.0</td>\n",
              "      <td>2.0</td>\n",
              "      <td>1.0</td>\n",
              "      <td>3.0</td>\n",
              "      <td>0.0</td>\n",
              "      <td>2.0</td>\n",
              "      <td>35.0</td>\n",
              "      <td>2.0</td>\n",
              "      <td>4.0</td>\n",
              "    </tr>\n",
              "    <tr>\n",
              "      <th>813</th>\n",
              "      <td>17.0</td>\n",
              "      <td>2.0</td>\n",
              "      <td>0.0</td>\n",
              "      <td>2.0</td>\n",
              "      <td>2.0</td>\n",
              "      <td>1.0</td>\n",
              "      <td>2.0</td>\n",
              "      <td>0.0</td>\n",
              "      <td>2.0</td>\n",
              "      <td>18.0</td>\n",
              "      <td>2.0</td>\n",
              "      <td>2.0</td>\n",
              "    </tr>\n",
              "    <tr>\n",
              "      <th>814</th>\n",
              "      <td>32.0</td>\n",
              "      <td>2.0</td>\n",
              "      <td>0.0</td>\n",
              "      <td>6.0</td>\n",
              "      <td>2.0</td>\n",
              "      <td>1.0</td>\n",
              "      <td>3.0</td>\n",
              "      <td>3.0</td>\n",
              "      <td>0.0</td>\n",
              "      <td>22.0</td>\n",
              "      <td>2.0</td>\n",
              "      <td>0.0</td>\n",
              "    </tr>\n",
              "    <tr>\n",
              "      <th>815</th>\n",
              "      <td>9.0</td>\n",
              "      <td>1.0</td>\n",
              "      <td>0.0</td>\n",
              "      <td>1.0</td>\n",
              "      <td>2.0</td>\n",
              "      <td>1.0</td>\n",
              "      <td>2.0</td>\n",
              "      <td>0.0</td>\n",
              "      <td>1.0</td>\n",
              "      <td>35.0</td>\n",
              "      <td>1.0</td>\n",
              "      <td>2.0</td>\n",
              "    </tr>\n",
              "    <tr>\n",
              "      <th>816</th>\n",
              "      <td>54.0</td>\n",
              "      <td>2.0</td>\n",
              "      <td>0.0</td>\n",
              "      <td>2.0</td>\n",
              "      <td>2.0</td>\n",
              "      <td>1.0</td>\n",
              "      <td>3.0</td>\n",
              "      <td>0.0</td>\n",
              "      <td>3.0</td>\n",
              "      <td>35.0</td>\n",
              "      <td>2.0</td>\n",
              "      <td>4.0</td>\n",
              "    </tr>\n",
              "    <tr>\n",
              "      <th>817</th>\n",
              "      <td>46.0</td>\n",
              "      <td>2.0</td>\n",
              "      <td>0.0</td>\n",
              "      <td>2.0</td>\n",
              "      <td>0.0</td>\n",
              "      <td>1.0</td>\n",
              "      <td>3.0</td>\n",
              "      <td>0.0</td>\n",
              "      <td>2.0</td>\n",
              "      <td>35.0</td>\n",
              "      <td>2.0</td>\n",
              "      <td>4.0</td>\n",
              "    </tr>\n",
              "  </tbody>\n",
              "</table>\n",
              "<p>818 rows × 12 columns</p>\n",
              "</div>"
            ],
            "text/plain": [
              "     Diagnosis Age  ER Status By IHC  ...  PR status by ihc  AgeCat\n",
              "0             44.0               2.0  ...               1.0     4.0\n",
              "1             33.0               2.0  ...               2.0     3.0\n",
              "2             29.0               2.0  ...               2.0     3.0\n",
              "3             27.0               2.0  ...               2.0     3.0\n",
              "4             12.0               1.0  ...               2.0     2.0\n",
              "5             25.0               2.0  ...               2.0     3.0\n",
              "6             12.0               2.0  ...               2.0     2.0\n",
              "7             27.0               1.0  ...               1.0     3.0\n",
              "8             51.0               2.0  ...               1.0     4.0\n",
              "9             23.0               2.0  ...               2.0     3.0\n",
              "10            13.0               1.0  ...               1.0     2.0\n",
              "11            18.0               2.0  ...               2.0     2.0\n",
              "12            40.0               2.0  ...               2.0     4.0\n",
              "13             9.0               1.0  ...               1.0     2.0\n",
              "14            21.0               1.0  ...               1.0     3.0\n",
              "15             9.0               2.0  ...               2.0     2.0\n",
              "16            36.0               1.0  ...               1.0     4.0\n",
              "17            20.0               1.0  ...               1.0     3.0\n",
              "18            12.0               2.0  ...               2.0     2.0\n",
              "19            23.0               1.0  ...               1.0     3.0\n",
              "20             7.0               2.0  ...               2.0     1.0\n",
              "21            26.0               2.0  ...               2.0     3.0\n",
              "22            34.0               2.0  ...               2.0     3.0\n",
              "23            10.0               2.0  ...               2.0     2.0\n",
              "24            13.0               1.0  ...               1.0     2.0\n",
              "25            59.0               2.0  ...               2.0     4.0\n",
              "26            34.0               2.0  ...               2.0     3.0\n",
              "27            36.0               2.0  ...               2.0     4.0\n",
              "28            27.0               2.0  ...               2.0     3.0\n",
              "29            47.0               2.0  ...               2.0     4.0\n",
              "..             ...               ...  ...               ...     ...\n",
              "788           31.0               1.0  ...               1.0     3.0\n",
              "789           25.0               1.0  ...               1.0     3.0\n",
              "790           31.0               2.0  ...               1.0     3.0\n",
              "791           23.0               2.0  ...               2.0     3.0\n",
              "792           30.0               2.0  ...               2.0     3.0\n",
              "793           31.0               2.0  ...               2.0     3.0\n",
              "794           27.0               2.0  ...               2.0     3.0\n",
              "795           37.0               1.0  ...               2.0     4.0\n",
              "796           46.0               2.0  ...               2.0     4.0\n",
              "797           19.0               2.0  ...               2.0     3.0\n",
              "798           22.0               1.0  ...               1.0     3.0\n",
              "799           17.0               2.0  ...               2.0     2.0\n",
              "800           41.0               2.0  ...               2.0     4.0\n",
              "801           29.0               1.0  ...               1.0     3.0\n",
              "802           22.0               2.0  ...               2.0     3.0\n",
              "803           19.0               2.0  ...               2.0     3.0\n",
              "804           35.0               2.0  ...               2.0     4.0\n",
              "805           36.0               1.0  ...               1.0     4.0\n",
              "806           58.0               2.0  ...               2.0     4.0\n",
              "807           38.0               2.0  ...               1.0     4.0\n",
              "808           62.0               2.0  ...               2.0     4.0\n",
              "809           19.0               2.0  ...               2.0     3.0\n",
              "810           23.0               1.0  ...               1.0     3.0\n",
              "811           22.0               2.0  ...               1.0     3.0\n",
              "812           47.0               2.0  ...               2.0     4.0\n",
              "813           17.0               2.0  ...               2.0     2.0\n",
              "814           32.0               2.0  ...               2.0     0.0\n",
              "815            9.0               1.0  ...               1.0     2.0\n",
              "816           54.0               2.0  ...               2.0     4.0\n",
              "817           46.0               2.0  ...               2.0     4.0\n",
              "\n",
              "[818 rows x 12 columns]"
            ]
          },
          "metadata": {
            "tags": []
          },
          "execution_count": 177
        }
      ]
    },
    {
      "cell_type": "code",
      "metadata": {
        "id": "dSGuuXvl-McQ",
        "colab_type": "code",
        "outputId": "377914e7-f4e5-4eb6-d0bd-c4d0b7bd750a",
        "colab": {
          "base_uri": "https://localhost:8080/",
          "height": 84
        }
      },
      "source": [
        "len(X_labeled['Primary Tumor Site'].unique())\n",
        "X_labeled['Primary Tumor Site'].unique()"
      ],
      "execution_count": 0,
      "outputs": [
        {
          "output_type": "execute_result",
          "data": {
            "text/plain": [
              "array([ 0., 15.,  7., 22., 35., 36., 27., 26.,  5., 28., 23., 13., 11.,\n",
              "       41., 16.,  1., 30., 17., 18.,  4., 32., 24., 38.,  6., 29.,  2.,\n",
              "       12., 33., 25., 14., 31., 10., 34.,  8., 37., 40.,  9., 21.,  3.,\n",
              "       20., 19., 39.])"
            ]
          },
          "metadata": {
            "tags": []
          },
          "execution_count": 178
        }
      ]
    },
    {
      "cell_type": "code",
      "metadata": {
        "id": "3TalqaKvI-id",
        "colab_type": "code",
        "colab": {}
      },
      "source": [
        "for x in range(11):\n",
        "  num=len(X_labeled.iloc[:,x].unique())\n",
        "  X_labeled.iloc[:,x].replace(0.0,num,inplace=True)\n",
        "\n"
      ],
      "execution_count": 0,
      "outputs": []
    },
    {
      "cell_type": "code",
      "metadata": {
        "id": "oclGrMt5NSfC",
        "colab_type": "code",
        "outputId": "af150fc7-00cb-450d-cc01-135b8dadb834",
        "colab": {
          "base_uri": "https://localhost:8080/",
          "height": 33
        }
      },
      "source": [
        "X_labeled['AgeCat'].unique()\n",
        "'Lymph Node(s) Examined Number','Mutation Count'"
      ],
      "execution_count": 0,
      "outputs": [
        {
          "output_type": "execute_result",
          "data": {
            "text/plain": [
              "('Lymph Node(s) Examined Number', 'Mutation Count')"
            ]
          },
          "metadata": {
            "tags": []
          },
          "execution_count": 180
        }
      ]
    },
    {
      "cell_type": "code",
      "metadata": {
        "id": "T-4JKN-wNWjv",
        "colab_type": "code",
        "outputId": "04423b1d-8cf0-4b2a-c1ee-8fefbb92da4a",
        "colab": {
          "base_uri": "https://localhost:8080/",
          "height": 263
        }
      },
      "source": [
        "X_scaled = X_labeled \n",
        "X_scaled[['Fraction Genome Altered','Lymph Node(s) Examined Number','Mutation Count']] = X_minmaxed\n",
        "X_scaled.head()"
      ],
      "execution_count": 0,
      "outputs": [
        {
          "output_type": "execute_result",
          "data": {
            "text/html": [
              "<div>\n",
              "<style scoped>\n",
              "    .dataframe tbody tr th:only-of-type {\n",
              "        vertical-align: middle;\n",
              "    }\n",
              "\n",
              "    .dataframe tbody tr th {\n",
              "        vertical-align: top;\n",
              "    }\n",
              "\n",
              "    .dataframe thead th {\n",
              "        text-align: right;\n",
              "    }\n",
              "</style>\n",
              "<table border=\"1\" class=\"dataframe\">\n",
              "  <thead>\n",
              "    <tr style=\"text-align: right;\">\n",
              "      <th></th>\n",
              "      <th>Diagnosis Age</th>\n",
              "      <th>ER Status By IHC</th>\n",
              "      <th>Person Gender</th>\n",
              "      <th>Neoplasm Histologic Type Name</th>\n",
              "      <th>IHC-HER2</th>\n",
              "      <th>Primary Lymph Node Presentation Assessment Ind-3</th>\n",
              "      <th>Menopause Status</th>\n",
              "      <th>First Pathologic Diagnosis Biospecimen Acquisition Method Type</th>\n",
              "      <th>Oncotree Code</th>\n",
              "      <th>Primary Tumor Site</th>\n",
              "      <th>PR status by ihc</th>\n",
              "      <th>AgeCat</th>\n",
              "      <th>Fraction Genome Altered</th>\n",
              "      <th>Lymph Node(s) Examined Number</th>\n",
              "      <th>Mutation Count</th>\n",
              "    </tr>\n",
              "  </thead>\n",
              "  <tbody>\n",
              "    <tr>\n",
              "      <th>0</th>\n",
              "      <td>44.0</td>\n",
              "      <td>2.0</td>\n",
              "      <td>2.0</td>\n",
              "      <td>7.0</td>\n",
              "      <td>2.0</td>\n",
              "      <td>1.0</td>\n",
              "      <td>3.0</td>\n",
              "      <td>3.0</td>\n",
              "      <td>4.0</td>\n",
              "      <td>42.0</td>\n",
              "      <td>1.0</td>\n",
              "      <td>4.0</td>\n",
              "      <td>0.000804</td>\n",
              "      <td>0.045455</td>\n",
              "      <td>0.004680</td>\n",
              "    </tr>\n",
              "    <tr>\n",
              "      <th>1</th>\n",
              "      <td>33.0</td>\n",
              "      <td>2.0</td>\n",
              "      <td>2.0</td>\n",
              "      <td>1.0</td>\n",
              "      <td>2.0</td>\n",
              "      <td>1.0</td>\n",
              "      <td>2.0</td>\n",
              "      <td>7.0</td>\n",
              "      <td>1.0</td>\n",
              "      <td>42.0</td>\n",
              "      <td>2.0</td>\n",
              "      <td>3.0</td>\n",
              "      <td>0.248103</td>\n",
              "      <td>0.068182</td>\n",
              "      <td>0.007800</td>\n",
              "    </tr>\n",
              "    <tr>\n",
              "      <th>2</th>\n",
              "      <td>29.0</td>\n",
              "      <td>2.0</td>\n",
              "      <td>2.0</td>\n",
              "      <td>5.0</td>\n",
              "      <td>2.0</td>\n",
              "      <td>1.0</td>\n",
              "      <td>4.0</td>\n",
              "      <td>7.0</td>\n",
              "      <td>2.0</td>\n",
              "      <td>15.0</td>\n",
              "      <td>2.0</td>\n",
              "      <td>3.0</td>\n",
              "      <td>0.213996</td>\n",
              "      <td>0.181818</td>\n",
              "      <td>0.005200</td>\n",
              "    </tr>\n",
              "    <tr>\n",
              "      <th>3</th>\n",
              "      <td>27.0</td>\n",
              "      <td>2.0</td>\n",
              "      <td>2.0</td>\n",
              "      <td>1.0</td>\n",
              "      <td>2.0</td>\n",
              "      <td>1.0</td>\n",
              "      <td>4.0</td>\n",
              "      <td>3.0</td>\n",
              "      <td>1.0</td>\n",
              "      <td>42.0</td>\n",
              "      <td>2.0</td>\n",
              "      <td>3.0</td>\n",
              "      <td>0.202105</td>\n",
              "      <td>0.045455</td>\n",
              "      <td>0.009880</td>\n",
              "    </tr>\n",
              "    <tr>\n",
              "      <th>4</th>\n",
              "      <td>12.0</td>\n",
              "      <td>1.0</td>\n",
              "      <td>2.0</td>\n",
              "      <td>1.0</td>\n",
              "      <td>4.0</td>\n",
              "      <td>1.0</td>\n",
              "      <td>4.0</td>\n",
              "      <td>3.0</td>\n",
              "      <td>3.0</td>\n",
              "      <td>7.0</td>\n",
              "      <td>2.0</td>\n",
              "      <td>2.0</td>\n",
              "      <td>0.179408</td>\n",
              "      <td>0.045455</td>\n",
              "      <td>0.020281</td>\n",
              "    </tr>\n",
              "  </tbody>\n",
              "</table>\n",
              "</div>"
            ],
            "text/plain": [
              "   Diagnosis Age  ...  Mutation Count\n",
              "0           44.0  ...        0.004680\n",
              "1           33.0  ...        0.007800\n",
              "2           29.0  ...        0.005200\n",
              "3           27.0  ...        0.009880\n",
              "4           12.0  ...        0.020281\n",
              "\n",
              "[5 rows x 15 columns]"
            ]
          },
          "metadata": {
            "tags": []
          },
          "execution_count": 181
        }
      ]
    },
    {
      "cell_type": "markdown",
      "metadata": {
        "id": "ggRtpkiaAdSt",
        "colab_type": "text"
      },
      "source": [
        "#Applying RandomForest"
      ]
    },
    {
      "cell_type": "code",
      "metadata": {
        "id": "80vLxOqcRCki",
        "colab_type": "code",
        "outputId": "d51cefbc-2ec0-479d-a28b-de013686a211",
        "colab": {
          "base_uri": "https://localhost:8080/",
          "height": 33
        }
      },
      "source": [
        "Y.shape, X_scaled.shape"
      ],
      "execution_count": 0,
      "outputs": [
        {
          "output_type": "execute_result",
          "data": {
            "text/plain": [
              "((818,), (818, 15))"
            ]
          },
          "metadata": {
            "tags": []
          },
          "execution_count": 182
        }
      ]
    },
    {
      "cell_type": "code",
      "metadata": {
        "id": "J0P8q8eHSz2u",
        "colab_type": "code",
        "colab": {}
      },
      "source": [
        "from sklearn.ensemble import RandomForestClassifier"
      ],
      "execution_count": 0,
      "outputs": []
    },
    {
      "cell_type": "code",
      "metadata": {
        "id": "xS-Oj9wCUzmt",
        "colab_type": "code",
        "colab": {}
      },
      "source": [
        "model = RandomForestClassifier(max_depth=3,random_state=25)"
      ],
      "execution_count": 0,
      "outputs": []
    },
    {
      "cell_type": "code",
      "metadata": {
        "id": "cYkgj76jVtOP",
        "colab_type": "code",
        "colab": {}
      },
      "source": [
        "from sklearn.model_selection import train_test_split"
      ],
      "execution_count": 0,
      "outputs": []
    },
    {
      "cell_type": "code",
      "metadata": {
        "id": "CvgnKyRBVtIe",
        "colab_type": "code",
        "outputId": "150c1a3c-9523-40dd-d126-0b582b489982",
        "colab": {
          "base_uri": "https://localhost:8080/",
          "height": 50
        }
      },
      "source": [
        "xtrain, xtest, ytrain, ytest = train_test_split(X_scaled,Y,test_size=0.45,random_state=25)\n",
        "print(xtrain.shape, ytrain.shape)\n",
        "print(xtest.shape, ytest.shape)"
      ],
      "execution_count": 0,
      "outputs": [
        {
          "output_type": "stream",
          "text": [
            "(449, 15) (449,)\n",
            "(369, 15) (369,)\n"
          ],
          "name": "stdout"
        }
      ]
    },
    {
      "cell_type": "code",
      "metadata": {
        "id": "_ioxBnfaVhLE",
        "colab_type": "code",
        "outputId": "ed256bf9-2ad0-4860-903a-96b8384dc82c",
        "colab": {
          "base_uri": "https://localhost:8080/",
          "height": 187
        }
      },
      "source": [
        "model.fit(xtrain,ytrain)"
      ],
      "execution_count": 0,
      "outputs": [
        {
          "output_type": "stream",
          "text": [
            "/usr/local/lib/python3.6/dist-packages/sklearn/ensemble/forest.py:245: FutureWarning: The default value of n_estimators will change from 10 in version 0.20 to 100 in 0.22.\n",
            "  \"10 in version 0.20 to 100 in 0.22.\", FutureWarning)\n"
          ],
          "name": "stderr"
        },
        {
          "output_type": "execute_result",
          "data": {
            "text/plain": [
              "RandomForestClassifier(bootstrap=True, class_weight=None, criterion='gini',\n",
              "                       max_depth=3, max_features='auto', max_leaf_nodes=None,\n",
              "                       min_impurity_decrease=0.0, min_impurity_split=None,\n",
              "                       min_samples_leaf=1, min_samples_split=2,\n",
              "                       min_weight_fraction_leaf=0.0, n_estimators=10,\n",
              "                       n_jobs=None, oob_score=False, random_state=25, verbose=0,\n",
              "                       warm_start=False)"
            ]
          },
          "metadata": {
            "tags": []
          },
          "execution_count": 187
        }
      ]
    },
    {
      "cell_type": "code",
      "metadata": {
        "id": "E8SoFwoGVnJ9",
        "colab_type": "code",
        "colab": {}
      },
      "source": [
        "pred = model.predict(xtest)\n",
        "pred_prb=model.predict_proba(xtest)"
      ],
      "execution_count": 0,
      "outputs": []
    },
    {
      "cell_type": "code",
      "metadata": {
        "id": "IFXR8gxNWAPi",
        "colab_type": "code",
        "colab": {}
      },
      "source": [
        "from sklearn.metrics import accuracy_score"
      ],
      "execution_count": 0,
      "outputs": []
    },
    {
      "cell_type": "code",
      "metadata": {
        "id": "q5_tPBW_WFEo",
        "colab_type": "code",
        "outputId": "5928ec94-f2c6-491c-bc8c-a21375a94ecb",
        "colab": {
          "base_uri": "https://localhost:8080/",
          "height": 33
        }
      },
      "source": [
        "accuracy = accuracy_score(ytest,pred)\n",
        "print(\"Accuracy of Multi-Class: {}\".format(accuracy))"
      ],
      "execution_count": 0,
      "outputs": [
        {
          "output_type": "stream",
          "text": [
            "Accuracy of Multi-Class: 0.8265582655826558\n"
          ],
          "name": "stdout"
        }
      ]
    },
    {
      "cell_type": "code",
      "metadata": {
        "id": "qHqL0W2FWIA6",
        "colab_type": "code",
        "colab": {}
      },
      "source": [
        "from sklearn.metrics import classification_report"
      ],
      "execution_count": 0,
      "outputs": []
    },
    {
      "cell_type": "code",
      "metadata": {
        "id": "pYTXr9ibWNvz",
        "colab_type": "code",
        "outputId": "74a6191e-cd21-429d-a2fe-1ff9bf94a9eb",
        "colab": {
          "base_uri": "https://localhost:8080/",
          "height": 201
        }
      },
      "source": [
        "print(classification_report(ytest,pred))"
      ],
      "execution_count": 0,
      "outputs": [
        {
          "output_type": "stream",
          "text": [
            "                                           precision    recall  f1-score   support\n",
            "\n",
            "         Breast Invasive Ductal Carcinoma       0.81      1.00      0.89       213\n",
            "        Breast Invasive Lobular Carcinoma       0.89      1.00      0.94        65\n",
            "Breast Mixed Ductal and Lobular Carcinoma       0.50      0.05      0.09        39\n",
            "                Invasive Breast Carcinoma       0.89      0.48      0.62        52\n",
            "\n",
            "                                 accuracy                           0.83       369\n",
            "                                macro avg       0.77      0.63      0.64       369\n",
            "                             weighted avg       0.80      0.83      0.78       369\n",
            "\n"
          ],
          "name": "stdout"
        }
      ]
    },
    {
      "cell_type": "code",
      "metadata": {
        "id": "i79fCvQIWVks",
        "colab_type": "code",
        "colab": {}
      },
      "source": [
        "from sklearn.metrics import confusion_matrix"
      ],
      "execution_count": 0,
      "outputs": []
    },
    {
      "cell_type": "code",
      "metadata": {
        "id": "jHXc7iI6WisB",
        "colab_type": "code",
        "colab": {}
      },
      "source": [
        "cm = confusion_matrix(ytest, pred) "
      ],
      "execution_count": 0,
      "outputs": []
    },
    {
      "cell_type": "code",
      "metadata": {
        "id": "PUFnrvehWnTa",
        "colab_type": "code",
        "colab": {}
      },
      "source": [
        "cm_df = pd.DataFrame(cm,\n",
        "                     index = ['Breast Invasive Ductal Carcinoma','Breast Invasive Lobular Carcinoma','Breast Mixed Ductal and Lobular Carcinoma','Invasive Breast Carcinoma'], \n",
        "                     columns = ['Breast Invasive Ductal Carcinoma','Breast Invasive Lobular Carcinoma','Breast Mixed Ductal and Lobular Carcinoma','Invasive Breast Carcinoma'])"
      ],
      "execution_count": 0,
      "outputs": []
    },
    {
      "cell_type": "code",
      "metadata": {
        "id": "Ni6dlbrGW6Jz",
        "colab_type": "code",
        "outputId": "ff99bff2-e337-4121-9a3c-44eb3e0c8b48",
        "colab": {
          "base_uri": "https://localhost:8080/",
          "height": 629
        }
      },
      "source": [
        "\n",
        "plt.figure(figsize=(8,6))\n",
        "sns.heatmap(cm_df, annot=True)\n",
        "plt.title('Random Forest \\nAccuracy:{0:.3f}'.format(accuracy))\n",
        "plt.ylabel('True label')\n",
        "plt.xlabel('Predicted label')\n",
        "plt.show()"
      ],
      "execution_count": 0,
      "outputs": [
        {
          "output_type": "display_data",
          "data": {
            "image/png": "[encoded data removed]",
            "text/plain": [
              "<Figure size 576x432 with 2 Axes>"
            ]
          },
          "metadata": {
            "tags": []
          }
        }
      ]
    },
    {
      "cell_type": "markdown",
      "metadata": {
        "id": "PLDvZdttAWQl",
        "colab_type": "text"
      },
      "source": [
        "#Applying XGBoost"
      ]
    },
    {
      "cell_type": "code",
      "metadata": {
        "id": "YFRwr36LXKz7",
        "colab_type": "code",
        "colab": {}
      },
      "source": [
        "import xgboost as xgb"
      ],
      "execution_count": 0,
      "outputs": []
    },
    {
      "cell_type": "code",
      "metadata": {
        "id": "nOv1-h2jYODo",
        "colab_type": "code",
        "colab": {}
      },
      "source": [
        "model_xgb = xgb.XGBClassifier(max_depth=15, seed=7, random_state=30)"
      ],
      "execution_count": 0,
      "outputs": []
    },
    {
      "cell_type": "code",
      "metadata": {
        "id": "ALUKZYK-YRAc",
        "colab_type": "code",
        "outputId": "aa6f67e3-6935-4bea-8f48-42c5a9409ffe",
        "colab": {
          "base_uri": "https://localhost:8080/",
          "height": 134
        }
      },
      "source": [
        "\n",
        "model_xgb.fit(xtrain, ytrain)"
      ],
      "execution_count": 0,
      "outputs": [
        {
          "output_type": "execute_result",
          "data": {
            "text/plain": [
              "XGBClassifier(base_score=0.5, booster='gbtree', colsample_bylevel=1,\n",
              "              colsample_bynode=1, colsample_bytree=1, gamma=0,\n",
              "              learning_rate=0.1, max_delta_step=0, max_depth=15,\n",
              "              min_child_weight=1, missing=None, n_estimators=100, n_jobs=1,\n",
              "              nthread=None, objective='multi:softprob', random_state=30,\n",
              "              reg_alpha=0, reg_lambda=1, scale_pos_weight=1, seed=7,\n",
              "              silent=None, subsample=1, verbosity=1)"
            ]
          },
          "metadata": {
            "tags": []
          },
          "execution_count": 199
        }
      ]
    },
    {
      "cell_type": "code",
      "metadata": {
        "id": "iOn0moh_YZor",
        "colab_type": "code",
        "colab": {}
      },
      "source": [
        "xgb_pred_train = model_xgb.predict(xtrain)\n",
        "xgb_pred_test = model_xgb.predict(xtest)"
      ],
      "execution_count": 0,
      "outputs": []
    },
    {
      "cell_type": "code",
      "metadata": {
        "id": "FrLhM61SYnTS",
        "colab_type": "code",
        "outputId": "ce0477b9-c1a1-4394-c036-1fdb6299d632",
        "colab": {
          "base_uri": "https://localhost:8080/",
          "height": 201
        }
      },
      "source": [
        "print(classification_report(ytest,xgb_pred_test))"
      ],
      "execution_count": 0,
      "outputs": [
        {
          "output_type": "stream",
          "text": [
            "                                           precision    recall  f1-score   support\n",
            "\n",
            "         Breast Invasive Ductal Carcinoma       1.00      1.00      1.00       213\n",
            "        Breast Invasive Lobular Carcinoma       1.00      1.00      1.00        65\n",
            "Breast Mixed Ductal and Lobular Carcinoma       1.00      1.00      1.00        39\n",
            "                Invasive Breast Carcinoma       1.00      1.00      1.00        52\n",
            "\n",
            "                                 accuracy                           1.00       369\n",
            "                                macro avg       1.00      1.00      1.00       369\n",
            "                             weighted avg       1.00      1.00      1.00       369\n",
            "\n"
          ],
          "name": "stdout"
        }
      ]
    },
    {
      "cell_type": "code",
      "metadata": {
        "id": "c5XIsZyMYxsW",
        "colab_type": "code",
        "outputId": "c2a9e2ed-f9d7-40cf-fc62-967f4579c2ee",
        "colab": {
          "base_uri": "https://localhost:8080/",
          "height": 33
        }
      },
      "source": [
        "accuracy = accuracy_score(ytest,xgb_pred_test)\n",
        "print(\"Accuracy of Multi-Class: {}\".format(accuracy))"
      ],
      "execution_count": 0,
      "outputs": [
        {
          "output_type": "stream",
          "text": [
            "Accuracy of Multi-Class: 1.0\n"
          ],
          "name": "stdout"
        }
      ]
    },
    {
      "cell_type": "code",
      "metadata": {
        "id": "5llWbo4dZsK9",
        "colab_type": "code",
        "colab": {}
      },
      "source": [
        "cm = confusion_matrix(ytest, xgb_pred_test) "
      ],
      "execution_count": 0,
      "outputs": []
    },
    {
      "cell_type": "code",
      "metadata": {
        "id": "b01AXmYAZ2Gn",
        "colab_type": "code",
        "outputId": "304b9565-9a5e-4186-a09e-625fef6d344a",
        "colab": {
          "base_uri": "https://localhost:8080/",
          "height": 629
        }
      },
      "source": [
        "plt.figure(figsize=(8,6))\n",
        "sns.heatmap(cm_df, annot=True)\n",
        "plt.title('XGBOOSTt \\nAccuracy:{0:.3f}'.format(accuracy * 100.0))\n",
        "plt.ylabel('True label')\n",
        "plt.xlabel('Predicted label')\n",
        "plt.show()"
      ],
      "execution_count": 0,
      "outputs": [
        {
          "output_type": "display_data",
          "data": {
            "image/png": "[encoded data removed]",
            "text/plain": [
              "<Figure size 576x432 with 2 Axes>"
            ]
          },
          "metadata": {
            "tags": []
          }
        }
      ]
    },
    {
      "cell_type": "markdown",
      "metadata": {
        "id": "NQpz4UsGARMY",
        "colab_type": "text"
      },
      "source": [
        "#Applying KNN"
      ]
    },
    {
      "cell_type": "code",
      "metadata": {
        "id": "yaI-D45dZ6N8",
        "colab_type": "code",
        "colab": {}
      },
      "source": [
        "from sklearn.neighbors import KNeighborsClassifier"
      ],
      "execution_count": 0,
      "outputs": []
    },
    {
      "cell_type": "code",
      "metadata": {
        "id": "wMaMKdj-waVu",
        "colab_type": "code",
        "colab": {}
      },
      "source": [
        "neigh = KNeighborsClassifier(n_neighbors=3)"
      ],
      "execution_count": 0,
      "outputs": []
    },
    {
      "cell_type": "code",
      "metadata": {
        "id": "93LnNOvnwe1C",
        "colab_type": "code",
        "outputId": "1049ebd5-e1d9-4126-ef08-23404d70793d",
        "colab": {
          "base_uri": "https://localhost:8080/",
          "height": 67
        }
      },
      "source": [
        " neigh.fit(X_scaled, Y)"
      ],
      "execution_count": 0,
      "outputs": [
        {
          "output_type": "execute_result",
          "data": {
            "text/plain": [
              "KNeighborsClassifier(algorithm='auto', leaf_size=30, metric='minkowski',\n",
              "                     metric_params=None, n_jobs=None, n_neighbors=3, p=2,\n",
              "                     weights='uniform')"
            ]
          },
          "metadata": {
            "tags": []
          },
          "execution_count": 207
        }
      ]
    },
    {
      "cell_type": "code",
      "metadata": {
        "id": "0N2GrRrqwxln",
        "colab_type": "code",
        "colab": {}
      },
      "source": [
        "knn_pred=neigh.predict(xtest)"
      ],
      "execution_count": 0,
      "outputs": []
    },
    {
      "cell_type": "code",
      "metadata": {
        "id": "CAdBWMbIw8_H",
        "colab_type": "code",
        "outputId": "06739018-b60f-47a5-e61b-084052fc4afd",
        "colab": {
          "base_uri": "https://localhost:8080/",
          "height": 33
        }
      },
      "source": [
        "accuracy = accuracy_score(ytest,knn_pred)\n",
        "print(\"Accuracy of Multi-Class: {}\".format(accuracy))"
      ],
      "execution_count": 0,
      "outputs": [
        {
          "output_type": "stream",
          "text": [
            "Accuracy of Multi-Class: 0.7940379403794038\n"
          ],
          "name": "stdout"
        }
      ]
    },
    {
      "cell_type": "code",
      "metadata": {
        "id": "c0-XKHM7xa8D",
        "colab_type": "code",
        "colab": {}
      },
      "source": [
        "cm = confusion_matrix(ytest, knn_pred) "
      ],
      "execution_count": 0,
      "outputs": []
    },
    {
      "cell_type": "code",
      "metadata": {
        "id": "seyZeaGtx3cg",
        "colab_type": "code",
        "outputId": "41078973-d5af-463f-af2a-7259d33aed2f",
        "colab": {
          "base_uri": "https://localhost:8080/",
          "height": 629
        }
      },
      "source": [
        "plt.figure(figsize=(8,6))\n",
        "sns.heatmap(cm_df, annot=True)\n",
        "plt.title('KNN \\nAccuracy:{0:.3f}'.format(accuracy * 100.0))\n",
        "plt.ylabel('True label')\n",
        "plt.xlabel('Predicted label')\n",
        "plt.show()"
      ],
      "execution_count": 0,
      "outputs": [
        {
          "output_type": "display_data",
          "data": {
            "image/png": "[encoded data removed]",
            "text/plain": [
              "<Figure size 576x432 with 2 Axes>"
            ]
          },
          "metadata": {
            "tags": []
          }
        }
      ]
    },
    {
      "cell_type": "markdown",
      "metadata": {
        "id": "CfTQwh4aALHk",
        "colab_type": "text"
      },
      "source": [
        "#Applying AdaBoost"
      ]
    },
    {
      "cell_type": "code",
      "metadata": {
        "id": "1e_dPbQryAz4",
        "colab_type": "code",
        "colab": {}
      },
      "source": [
        "from sklearn.ensemble import AdaBoostClassifier"
      ],
      "execution_count": 0,
      "outputs": []
    },
    {
      "cell_type": "code",
      "metadata": {
        "id": "5tEcMePmyRi9",
        "colab_type": "code",
        "colab": {}
      },
      "source": [
        "clf = AdaBoostClassifier(n_estimators=100, random_state=0)"
      ],
      "execution_count": 0,
      "outputs": []
    },
    {
      "cell_type": "code",
      "metadata": {
        "id": "LziNcejXyad3",
        "colab_type": "code",
        "outputId": "e7e2ab83-0de8-4c0c-ec7f-bb08ae59a1fe",
        "colab": {
          "base_uri": "https://localhost:8080/",
          "height": 50
        }
      },
      "source": [
        "clf.fit(X_scaled, Y)"
      ],
      "execution_count": 0,
      "outputs": [
        {
          "output_type": "execute_result",
          "data": {
            "text/plain": [
              "AdaBoostClassifier(algorithm='SAMME.R', base_estimator=None, learning_rate=1.0,\n",
              "                   n_estimators=100, random_state=0)"
            ]
          },
          "metadata": {
            "tags": []
          },
          "execution_count": 214
        }
      ]
    },
    {
      "cell_type": "code",
      "metadata": {
        "id": "f3JL94Tnyhhm",
        "colab_type": "code",
        "colab": {}
      },
      "source": [
        "ada_pred=clf.predict(xtest)"
      ],
      "execution_count": 0,
      "outputs": []
    },
    {
      "cell_type": "code",
      "metadata": {
        "id": "aQ4Ekc9xyvqL",
        "colab_type": "code",
        "outputId": "5c694bc1-37e8-42c4-bd68-fc3ab1aa3fc4",
        "colab": {
          "base_uri": "https://localhost:8080/",
          "height": 33
        }
      },
      "source": [
        "accuracy = accuracy_score(ytest,ada_pred)\n",
        "print(\"Accuracy of Multi-Class: {}\".format(accuracy))"
      ],
      "execution_count": 0,
      "outputs": [
        {
          "output_type": "stream",
          "text": [
            "Accuracy of Multi-Class: 0.8943089430894309\n"
          ],
          "name": "stdout"
        }
      ]
    },
    {
      "cell_type": "code",
      "metadata": {
        "id": "Prf_nF5ty1Jg",
        "colab_type": "code",
        "colab": {}
      },
      "source": [
        "cm = confusion_matrix(ytest, ada_pred)"
      ],
      "execution_count": 0,
      "outputs": []
    },
    {
      "cell_type": "code",
      "metadata": {
        "id": "MBVjGie9y97K",
        "colab_type": "code",
        "outputId": "ef1ebd4e-f739-4aae-f0c0-45f2edae10f0",
        "colab": {
          "base_uri": "https://localhost:8080/",
          "height": 629
        }
      },
      "source": [
        "plt.figure(figsize=(8,6))\n",
        "sns.heatmap(cm_df, annot=True)\n",
        "plt.title('ADA BOOST \\nAccuracy:{0:.3f}'.format(accuracy * 100.0))\n",
        "plt.ylabel('True label')\n",
        "plt.xlabel('Predicted label')\n",
        "plt.show()"
      ],
      "execution_count": 0,
      "outputs": [
        {
          "output_type": "display_data",
          "data": {
            "image/png": "[encoded data removed]",
            "text/plain": [
              "<Figure size 576x432 with 2 Axes>"
            ]
          },
          "metadata": {
            "tags": []
          }
        }
      ]
    },
    {
      "cell_type": "code",
      "metadata": {
        "id": "tow_Bnh-zGJ0",
        "colab_type": "code",
        "outputId": "6e1fa02b-73d1-49d6-b6de-6d74d2733090",
        "colab": {
          "base_uri": "https://localhost:8080/",
          "height": 254
        }
      },
      "source": [
        "print(classification_report(ytest,ada_pred))"
      ],
      "execution_count": 0,
      "outputs": [
        {
          "output_type": "stream",
          "text": [
            "                                           precision    recall  f1-score   support\n",
            "\n",
            "         Breast Invasive Ductal Carcinoma       1.00      1.00      1.00       213\n",
            "        Breast Invasive Lobular Carcinoma       0.62      1.00      0.77        65\n",
            "Breast Mixed Ductal and Lobular Carcinoma       0.00      0.00      0.00        39\n",
            "                Invasive Breast Carcinoma       1.00      1.00      1.00        52\n",
            "\n",
            "                                 accuracy                           0.89       369\n",
            "                                macro avg       0.66      0.75      0.69       369\n",
            "                             weighted avg       0.83      0.89      0.85       369\n",
            "\n"
          ],
          "name": "stdout"
        },
        {
          "output_type": "stream",
          "text": [
            "/usr/local/lib/python3.6/dist-packages/sklearn/metrics/classification.py:1437: UndefinedMetricWarning: Precision and F-score are ill-defined and being set to 0.0 in labels with no predicted samples.\n",
            "  'precision', 'predicted', average, warn_for)\n"
          ],
          "name": "stderr"
        }
      ]
    },
    {
      "cell_type": "markdown",
      "metadata": {
        "id": "lQuCB9_gAEiB",
        "colab_type": "text"
      },
      "source": [
        "#Applying MLP Classifier"
      ]
    },
    {
      "cell_type": "code",
      "metadata": {
        "id": "uCeKFI6_zaHj",
        "colab_type": "code",
        "colab": {}
      },
      "source": [
        "from sklearn.neural_network import MLPClassifier"
      ],
      "execution_count": 0,
      "outputs": []
    },
    {
      "cell_type": "code",
      "metadata": {
        "id": "HBA2fggzzwN1",
        "colab_type": "code",
        "colab": {}
      },
      "source": [
        "clf = MLPClassifier(solver='lbfgs', alpha=1e-5,\n",
        "...                     hidden_layer_sizes=(5, 2), random_state=1)"
      ],
      "execution_count": 0,
      "outputs": []
    },
    {
      "cell_type": "code",
      "metadata": {
        "id": "rpdLz4jxz1gU",
        "colab_type": "code",
        "outputId": "31ded318-8ff6-4330-e2ec-6ed92740256a",
        "colab": {
          "base_uri": "https://localhost:8080/",
          "height": 134
        }
      },
      "source": [
        "clf.fit(X_scaled,Y)"
      ],
      "execution_count": 0,
      "outputs": [
        {
          "output_type": "execute_result",
          "data": {
            "text/plain": [
              "MLPClassifier(activation='relu', alpha=1e-05, batch_size='auto', beta_1=0.9,\n",
              "              beta_2=0.999, early_stopping=False, epsilon=1e-08,\n",
              "              hidden_layer_sizes=(5, 2), learning_rate='constant',\n",
              "              learning_rate_init=0.001, max_iter=200, momentum=0.9,\n",
              "              n_iter_no_change=10, nesterovs_momentum=True, power_t=0.5,\n",
              "              random_state=1, shuffle=True, solver='lbfgs', tol=0.0001,\n",
              "              validation_fraction=0.1, verbose=False, warm_start=False)"
            ]
          },
          "metadata": {
            "tags": []
          },
          "execution_count": 222
        }
      ]
    },
    {
      "cell_type": "code",
      "metadata": {
        "id": "4ZBajQe-z7Ae",
        "colab_type": "code",
        "colab": {}
      },
      "source": [
        "ann_pred=clf.predict(xtest)"
      ],
      "execution_count": 0,
      "outputs": []
    },
    {
      "cell_type": "code",
      "metadata": {
        "id": "TmyttMJr0Oqt",
        "colab_type": "code",
        "outputId": "07952747-4f32-44be-9783-790c0b921d1e",
        "colab": {
          "base_uri": "https://localhost:8080/",
          "height": 254
        }
      },
      "source": [
        "print(classification_report(ytest,ann_pred))"
      ],
      "execution_count": 0,
      "outputs": [
        {
          "output_type": "stream",
          "text": [
            "                                           precision    recall  f1-score   support\n",
            "\n",
            "         Breast Invasive Ductal Carcinoma       0.58      1.00      0.73       213\n",
            "        Breast Invasive Lobular Carcinoma       0.00      0.00      0.00        65\n",
            "Breast Mixed Ductal and Lobular Carcinoma       0.00      0.00      0.00        39\n",
            "                Invasive Breast Carcinoma       0.00      0.00      0.00        52\n",
            "\n",
            "                                 accuracy                           0.58       369\n",
            "                                macro avg       0.14      0.25      0.18       369\n",
            "                             weighted avg       0.33      0.58      0.42       369\n",
            "\n"
          ],
          "name": "stdout"
        },
        {
          "output_type": "stream",
          "text": [
            "/usr/local/lib/python3.6/dist-packages/sklearn/metrics/classification.py:1437: UndefinedMetricWarning: Precision and F-score are ill-defined and being set to 0.0 in labels with no predicted samples.\n",
            "  'precision', 'predicted', average, warn_for)\n"
          ],
          "name": "stderr"
        }
      ]
    },
    {
      "cell_type": "markdown",
      "metadata": {
        "id": "lkzlvZVK_2Rs",
        "colab_type": "text"
      },
      "source": [
        "#Applying SVM"
      ]
    },
    {
      "cell_type": "code",
      "metadata": {
        "id": "Ak9qhcli0Y9p",
        "colab_type": "code",
        "colab": {}
      },
      "source": [
        "from sklearn import svm"
      ],
      "execution_count": 0,
      "outputs": []
    },
    {
      "cell_type": "code",
      "metadata": {
        "id": "umvxPKu61GWP",
        "colab_type": "code",
        "colab": {}
      },
      "source": [
        "clf = svm.SVC(gamma='scale', decision_function_shape='ovo')"
      ],
      "execution_count": 0,
      "outputs": []
    },
    {
      "cell_type": "code",
      "metadata": {
        "id": "EKA0BoLt1J4M",
        "colab_type": "code",
        "outputId": "07847c83-3b3f-46d2-b625-0db1c74a83c9",
        "colab": {
          "base_uri": "https://localhost:8080/",
          "height": 84
        }
      },
      "source": [
        "clf.fit(X_scaled,Y)"
      ],
      "execution_count": 0,
      "outputs": [
        {
          "output_type": "execute_result",
          "data": {
            "text/plain": [
              "SVC(C=1.0, cache_size=200, class_weight=None, coef0=0.0,\n",
              "    decision_function_shape='ovo', degree=3, gamma='scale', kernel='rbf',\n",
              "    max_iter=-1, probability=False, random_state=None, shrinking=True,\n",
              "    tol=0.001, verbose=False)"
            ]
          },
          "metadata": {
            "tags": []
          },
          "execution_count": 227
        }
      ]
    },
    {
      "cell_type": "code",
      "metadata": {
        "id": "svZVMUB11SaS",
        "colab_type": "code",
        "colab": {}
      },
      "source": [
        "svm_pred=clf.predict(xtest)"
      ],
      "execution_count": 0,
      "outputs": []
    },
    {
      "cell_type": "code",
      "metadata": {
        "id": "eVdTpKRt1ZoO",
        "colab_type": "code",
        "outputId": "c30666a8-8c7c-4f21-9728-62abdf8284b9",
        "colab": {
          "base_uri": "https://localhost:8080/",
          "height": 254
        }
      },
      "source": [
        "print(classification_report(ytest,svm_pred))"
      ],
      "execution_count": 0,
      "outputs": [
        {
          "output_type": "stream",
          "text": [
            "                                           precision    recall  f1-score   support\n",
            "\n",
            "         Breast Invasive Ductal Carcinoma       0.60      1.00      0.75       213\n",
            "        Breast Invasive Lobular Carcinoma       0.00      0.00      0.00        65\n",
            "Breast Mixed Ductal and Lobular Carcinoma       0.00      0.00      0.00        39\n",
            "                Invasive Breast Carcinoma       1.00      0.31      0.47        52\n",
            "\n",
            "                                 accuracy                           0.62       369\n",
            "                                macro avg       0.40      0.33      0.31       369\n",
            "                             weighted avg       0.49      0.62      0.50       369\n",
            "\n"
          ],
          "name": "stdout"
        },
        {
          "output_type": "stream",
          "text": [
            "/usr/local/lib/python3.6/dist-packages/sklearn/metrics/classification.py:1437: UndefinedMetricWarning: Precision and F-score are ill-defined and being set to 0.0 in labels with no predicted samples.\n",
            "  'precision', 'predicted', average, warn_for)\n"
          ],
          "name": "stderr"
        }
      ]
    },
    {
      "cell_type": "markdown",
      "metadata": {
        "id": "DIyQA1ex_7fj",
        "colab_type": "text"
      },
      "source": [
        "#Applying Decision Tree"
      ]
    },
    {
      "cell_type": "code",
      "metadata": {
        "id": "latDvKbE1jVV",
        "colab_type": "code",
        "colab": {}
      },
      "source": [
        "from sklearn.tree import DecisionTreeClassifier\n",
        "clf = DecisionTreeClassifier(random_state=0)"
      ],
      "execution_count": 0,
      "outputs": []
    },
    {
      "cell_type": "code",
      "metadata": {
        "id": "2XbvwQpf2dRU",
        "colab_type": "code",
        "outputId": "69d87833-4fc4-41f9-e3f9-52cafa43a03c",
        "colab": {
          "base_uri": "https://localhost:8080/",
          "height": 117
        }
      },
      "source": [
        "clf.fit(X_scaled,Y)"
      ],
      "execution_count": 0,
      "outputs": [
        {
          "output_type": "execute_result",
          "data": {
            "text/plain": [
              "DecisionTreeClassifier(class_weight=None, criterion='gini', max_depth=None,\n",
              "                       max_features=None, max_leaf_nodes=None,\n",
              "                       min_impurity_decrease=0.0, min_impurity_split=None,\n",
              "                       min_samples_leaf=1, min_samples_split=2,\n",
              "                       min_weight_fraction_leaf=0.0, presort=False,\n",
              "                       random_state=0, splitter='best')"
            ]
          },
          "metadata": {
            "tags": []
          },
          "execution_count": 231
        }
      ]
    },
    {
      "cell_type": "code",
      "metadata": {
        "id": "68HTzqy62iLz",
        "colab_type": "code",
        "colab": {}
      },
      "source": [
        "desc_pred=clf.predict(xtest)"
      ],
      "execution_count": 0,
      "outputs": []
    },
    {
      "cell_type": "code",
      "metadata": {
        "id": "1TmFC6Tw2pbq",
        "colab_type": "code",
        "outputId": "6dc679a0-d3fa-4313-b61f-8aa46f502a74",
        "colab": {
          "base_uri": "https://localhost:8080/",
          "height": 201
        }
      },
      "source": [
        "print(classification_report(ytest,desc_pred))"
      ],
      "execution_count": 0,
      "outputs": [
        {
          "output_type": "stream",
          "text": [
            "                                           precision    recall  f1-score   support\n",
            "\n",
            "         Breast Invasive Ductal Carcinoma       1.00      1.00      1.00       213\n",
            "        Breast Invasive Lobular Carcinoma       1.00      1.00      1.00        65\n",
            "Breast Mixed Ductal and Lobular Carcinoma       1.00      1.00      1.00        39\n",
            "                Invasive Breast Carcinoma       1.00      1.00      1.00        52\n",
            "\n",
            "                                 accuracy                           1.00       369\n",
            "                                macro avg       1.00      1.00      1.00       369\n",
            "                             weighted avg       1.00      1.00      1.00       369\n",
            "\n"
          ],
          "name": "stdout"
        }
      ]
    },
    {
      "cell_type": "code",
      "metadata": {
        "id": "sznE5CW72xIU",
        "colab_type": "code",
        "colab": {}
      },
      "source": [
        "cm = confusion_matrix(ytest, desc_pred)"
      ],
      "execution_count": 0,
      "outputs": []
    },
    {
      "cell_type": "code",
      "metadata": {
        "id": "i_Bjy8WB3K4O",
        "colab_type": "code",
        "outputId": "1ccde7b4-c1a0-47db-cbf0-81086286d353",
        "colab": {
          "base_uri": "https://localhost:8080/",
          "height": 629
        }
      },
      "source": [
        "plt.figure(figsize=(8,6))\n",
        "sns.heatmap(cm_df, annot=True)\n",
        "plt.title('Decision Tree \\nAccuracy:{0:.3f}'.format(accuracy_score(ytest, desc_pred) * 100.0))\n",
        "plt.ylabel('True label')\n",
        "plt.xlabel('Predicted label')\n",
        "plt.show()"
      ],
      "execution_count": 0,
      "outputs": [
        {
          "output_type": "display_data",
          "data": {
            "image/png": "[encoded data removed]",
            "text/plain": [
              "<Figure size 576x432 with 2 Axes>"
            ]
          },
          "metadata": {
            "tags": []
          }
        }
      ]
    },
    {
      "cell_type": "code",
      "metadata": {
        "id": "OYB8yNqZ3QVm",
        "colab_type": "code",
        "colab": {}
      },
      "source": [
        ""
      ],
      "execution_count": 0,
      "outputs": []
    }
  ]
}